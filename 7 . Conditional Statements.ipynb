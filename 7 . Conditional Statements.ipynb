{
 "cells": [
  {
   "cell_type": "markdown",
   "metadata": {},
   "source": [
    "# if - else"
   ]
  },
  {
   "cell_type": "code",
   "execution_count": 1,
   "metadata": {},
   "outputs": [
    {
     "name": "stdout",
     "output_type": "stream",
     "text": [
      "a is greater than b\n"
     ]
    }
   ],
   "source": [
    "a = 4\n",
    "b = 2\n",
    "if a>b: print(\"a is greater than b\")"
   ]
  },
  {
   "cell_type": "code",
   "execution_count": 2,
   "metadata": {},
   "outputs": [
    {
     "name": "stdout",
     "output_type": "stream",
     "text": [
      "a is greater than b\n"
     ]
    }
   ],
   "source": [
    "a = 4\n",
    "b = 2\n",
    "if a>b: \n",
    "    print(\"a is greater than b\")"
   ]
  },
  {
   "cell_type": "code",
   "execution_count": 3,
   "metadata": {},
   "outputs": [
    {
     "name": "stdout",
     "output_type": "stream",
     "text": [
      "A is greater than B\n"
     ]
    }
   ],
   "source": [
    "a = 10\n",
    "b = 5\n",
    "\n",
    "if a>b:\n",
    "    print(\"A is greater than B\")\n",
    "else:\n",
    "    print(\"B is greater than A\")"
   ]
  },
  {
   "cell_type": "code",
   "execution_count": 4,
   "metadata": {},
   "outputs": [
    {
     "name": "stdout",
     "output_type": "stream",
     "text": [
      "Enter the number one : 10\n",
      "Enter the number two : 20\n",
      "B is greater than A\n"
     ]
    }
   ],
   "source": [
    "a = int(input(\"Enter the number one : \"))\n",
    "b = int(input(\"Enter the number two : \"))\n",
    "\n",
    "if a>b:\n",
    "    print(\"A is greater than B\")\n",
    "else:\n",
    "    print(\"B is greater than A\")"
   ]
  },
  {
   "cell_type": "code",
   "execution_count": 5,
   "metadata": {},
   "outputs": [
    {
     "name": "stdout",
     "output_type": "stream",
     "text": [
      "Hello World\n"
     ]
    }
   ],
   "source": [
    "flag = True\n",
    "\n",
    "if flag:\n",
    "    print(\"Hello World\")\n",
    "else:\n",
    "    print(\"Good morning\")"
   ]
  },
  {
   "cell_type": "code",
   "execution_count": 6,
   "metadata": {},
   "outputs": [
    {
     "name": "stdout",
     "output_type": "stream",
     "text": [
      "Good morning\n"
     ]
    }
   ],
   "source": [
    "flag = False\n",
    "\n",
    "if flag:\n",
    "    print(\"Hello World\")\n",
    "else:\n",
    "    print(\"Good morning\")"
   ]
  },
  {
   "cell_type": "markdown",
   "metadata": {},
   "source": [
    "# if - elif - else"
   ]
  },
  {
   "cell_type": "code",
   "execution_count": 7,
   "metadata": {},
   "outputs": [
    {
     "name": "stdout",
     "output_type": "stream",
     "text": [
      "B is postive number\n"
     ]
    }
   ],
   "source": [
    "a = -10\n",
    "\n",
    "if a>0:\n",
    "    print(\"A is Postive number\")\n",
    "else:\n",
    "    print(\"B is postive number\")"
   ]
  },
  {
   "cell_type": "code",
   "execution_count": 8,
   "metadata": {},
   "outputs": [
    {
     "name": "stdout",
     "output_type": "stream",
     "text": [
      "B is postive number\n"
     ]
    }
   ],
   "source": [
    "a = 0 # 0 is greater than 0  it is actually equal to 0 , if condition fails and jumps to else \n",
    "\n",
    "if a>0:\n",
    "    print(\"A is Postive number\")\n",
    "else:\n",
    "    print(\"B is postive number\")"
   ]
  },
  {
   "cell_type": "code",
   "execution_count": 9,
   "metadata": {},
   "outputs": [
    {
     "name": "stdout",
     "output_type": "stream",
     "text": [
      "A is Zero\n"
     ]
    }
   ],
   "source": [
    "a = 0 # 0 is greater than 0  it is actually equal to 0 , if condition fails and jumps to else \n",
    "\n",
    "if a>0:\n",
    "    print(\"A is Postive number\")\n",
    "    \n",
    "elif a==0:\n",
    "    print(\"A is Zero\")\n",
    "    \n",
    "else:\n",
    "    print(\"B is postive number\")"
   ]
  },
  {
   "cell_type": "code",
   "execution_count": 10,
   "metadata": {},
   "outputs": [
    {
     "name": "stdout",
     "output_type": "stream",
     "text": [
      "Three\n"
     ]
    }
   ],
   "source": [
    "a = 3\n",
    "\n",
    "if a==0:\n",
    "    print(\"Zero\")\n",
    "elif a==1:\n",
    "    print(\"One\")\n",
    "elif a==2:\n",
    "    print(\"Two\")\n",
    "elif a==3:\n",
    "    print(\"Three\")\n",
    "elif a==4:\n",
    "    print(\"Four\")\n"
   ]
  },
  {
   "cell_type": "code",
   "execution_count": 11,
   "metadata": {},
   "outputs": [
    {
     "name": "stdout",
     "output_type": "stream",
     "text": [
      "Four digit number\n"
     ]
    }
   ],
   "source": [
    "num = 1122\n",
    "\n",
    "if 9 < num < 99:\n",
    "    print(\"Two digit number\")\n",
    "elif 99 < num < 999:\n",
    "    print(\"Three digit number\")\n",
    "elif 999 < num < 9999:\n",
    "    print(\"Four digit number\")\n",
    "else:\n",
    "    print(\"number is <= 9 or >= 9999\")"
   ]
  },
  {
   "cell_type": "markdown",
   "metadata": {},
   "source": [
    "# Nested If - else"
   ]
  },
  {
   "cell_type": "code",
   "execution_count": 12,
   "metadata": {},
   "outputs": [
    {
     "name": "stdout",
     "output_type": "stream",
     "text": [
      "A is Negative number\n"
     ]
    }
   ],
   "source": [
    "a = -10\n",
    "\n",
    "if a<=0:\n",
    "    if a==0:\n",
    "        print(\"A is zero\")\n",
    "    else:\n",
    "        print(\"A is Negative number\")\n",
    "else:\n",
    "    print(\"A is Postive number\")"
   ]
  },
  {
   "cell_type": "code",
   "execution_count": 13,
   "metadata": {},
   "outputs": [
    {
     "name": "stdout",
     "output_type": "stream",
     "text": [
      "Enter Cibil Score : 780\n",
      "Enter Co - applicant Cibil :600\n",
      "Enter applicant Salary : 23000\n",
      "Enter Co - applicant Salary : 22000\n",
      "Decline Loan\n"
     ]
    }
   ],
   "source": [
    "applicant_cibil = int(input(\"Enter Cibil Score : \"))\n",
    "co_appilcabt_cibil = int(input(\"Enter Co - applicant Cibil :\"))\n",
    "applicant_salary = int(input(\"Enter applicant Salary : \"))\n",
    "co_applicant_salary = int(input(\"Enter Co - applicant Salary : \"))\n",
    "\n",
    "\"\"\"\n",
    "# conditon for approving loan\n",
    "applicant_cibil >=750\n",
    "co_appilcabt_cibil >=750\n",
    "applicant_salary >=20000\n",
    "co_applicant_salary >=20000\n",
    "\n",
    "# if any one condition fails we will decline the loan\n",
    "\n",
    "\"\"\"\n",
    "\n",
    "if applicant_cibil>=750:\n",
    "    if co_appilcabt_cibil>=750:\n",
    "        if applicant_salary>=20000:\n",
    "            if co_applicant_salary>=20000:\n",
    "                print(\"You can be aproved for Loan\")\n",
    "            else:\n",
    "                print(\"Decline Loan\")\n",
    "        else:\n",
    "            print(\"Decline Loan\")\n",
    "    else:\n",
    "        print(\"Decline Loan\")\n",
    "else:\n",
    "    print(\"Decline Loan\")"
   ]
  }
 ],
 "metadata": {
  "kernelspec": {
   "display_name": "Python 3",
   "language": "python",
   "name": "python3"
  },
  "language_info": {
   "codemirror_mode": {
    "name": "ipython",
    "version": 3
   },
   "file_extension": ".py",
   "mimetype": "text/x-python",
   "name": "python",
   "nbconvert_exporter": "python",
   "pygments_lexer": "ipython3",
   "version": "3.7.3"
  }
 },
 "nbformat": 4,
 "nbformat_minor": 2
}
