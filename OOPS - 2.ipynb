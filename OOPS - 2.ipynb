{
 "cells": [
  {
   "cell_type": "code",
   "execution_count": 1,
   "metadata": {},
   "outputs": [],
   "source": [
    "class Box:\n",
    "    length = 10\n",
    "    breadth = 20\n",
    "    \n",
    "box = Box()"
   ]
  },
  {
   "cell_type": "code",
   "execution_count": 2,
   "metadata": {},
   "outputs": [
    {
     "name": "stdout",
     "output_type": "stream",
     "text": [
      "10\n",
      "20\n"
     ]
    }
   ],
   "source": [
    "class Box:\n",
    "    length = 10\n",
    "    breadth = 20\n",
    "    \n",
    "box = Box()\n",
    "print(box.length)\n",
    "print(box.breadth)"
   ]
  },
  {
   "cell_type": "code",
   "execution_count": 3,
   "metadata": {},
   "outputs": [
    {
     "name": "stdout",
     "output_type": "stream",
     "text": [
      "10\n",
      "20\n",
      "calculating area - \n"
     ]
    }
   ],
   "source": [
    "class Box:\n",
    "    length = 10\n",
    "    breadth = 20\n",
    "    \n",
    "    \n",
    "    def calculatearea(self):\n",
    "        print(\"calculating area - \")\n",
    "        \n",
    "box = Box()\n",
    "\n",
    "print(box.length)\n",
    "print(box.breadth)\n",
    "box.calculatearea()"
   ]
  },
  {
   "cell_type": "code",
   "execution_count": 4,
   "metadata": {},
   "outputs": [
    {
     "name": "stdout",
     "output_type": "stream",
     "text": [
      "10\n",
      "20\n",
      "calculating area -  200\n"
     ]
    }
   ],
   "source": [
    "class Box:\n",
    "    length = 10\n",
    "    breadth = 20\n",
    "    \n",
    "    \n",
    "    def calculatearea(self):\n",
    "        print(\"calculating area - \",self.length*self.breadth)\n",
    "        \n",
    "box = Box()\n",
    "\n",
    "print(box.length)\n",
    "print(box.breadth)\n",
    "box.calculatearea()"
   ]
  },
  {
   "cell_type": "raw",
   "metadata": {},
   "source": [
    "With Default Values"
   ]
  },
  {
   "cell_type": "code",
   "execution_count": 3,
   "metadata": {},
   "outputs": [
    {
     "name": "stdout",
     "output_type": "stream",
     "text": [
      "50\n",
      "50\n"
     ]
    }
   ],
   "source": [
    "class Box:\n",
    "    \n",
    "    def __init__(self,length=50,breadth=50):\n",
    "        self.length= length\n",
    "        self.breadth = breadth\n",
    "    \n",
    "box = Box()\n",
    "\n",
    "print(box.length)\n",
    "print(box.breadth)"
   ]
  },
  {
   "cell_type": "code",
   "execution_count": 5,
   "metadata": {},
   "outputs": [
    {
     "name": "stdout",
     "output_type": "stream",
     "text": [
      "10\n",
      "20\n"
     ]
    }
   ],
   "source": [
    "class Box:\n",
    "    \n",
    "    def __init__(self,length,breadth):\n",
    "        self.length= length\n",
    "        self.breadth = breadth\n",
    "    \n",
    "box = Box(10,20)\n",
    "\n",
    "print(box.length)\n",
    "print(box.breadth)"
   ]
  },
  {
   "cell_type": "code",
   "execution_count": 6,
   "metadata": {},
   "outputs": [
    {
     "name": "stdout",
     "output_type": "stream",
     "text": [
      "10\n",
      "20\n",
      "calculating area -  200\n"
     ]
    }
   ],
   "source": [
    "class Box:\n",
    "    \n",
    "    def __init__(self,length,breadth):\n",
    "        self.length= length\n",
    "        self.breadth = breadth\n",
    "        \n",
    "    def calculatearea(self):\n",
    "        print(\"calculating area - \",self.length*self.breadth)\n",
    "    \n",
    "box = Box(10,20)\n",
    "\n",
    "print(box.length)\n",
    "print(box.breadth)\n",
    "box.calculatearea()"
   ]
  },
  {
   "cell_type": "code",
   "execution_count": 7,
   "metadata": {},
   "outputs": [
    {
     "name": "stdout",
     "output_type": "stream",
     "text": [
      "10\n",
      "20\n",
      "calculating area -  200\n",
      "Calculating perimeter -  40\n"
     ]
    }
   ],
   "source": [
    "class Box:\n",
    "    \n",
    "    def __init__(self,length,breadth):\n",
    "        self.length= length\n",
    "        self.breadth = breadth\n",
    "        \n",
    "    def calculatearea(self):\n",
    "        print(\"calculating area - \",self.length*self.breadth)\n",
    "        \n",
    "    def calculateperimeter(self):\n",
    "        print(\"Calculating perimeter - \",2*self.length+self.breadth)\n",
    "    \n",
    "box = Box(10,20)\n",
    "\n",
    "print(box.length)\n",
    "print(box.breadth)\n",
    "box.calculatearea()\n",
    "box.calculateperimeter()"
   ]
  },
  {
   "cell_type": "code",
   "execution_count": 8,
   "metadata": {},
   "outputs": [
    {
     "name": "stdout",
     "output_type": "stream",
     "text": [
      "10\n",
      "20\n"
     ]
    }
   ],
   "source": [
    "class Box:\n",
    "    length = 10\n",
    "    breadth = 20\n",
    "    \n",
    "class Rectangle(Box):\n",
    "    pass\n",
    "\n",
    "rectangle = Rectangle()\n",
    "print(rectangle.length)\n",
    "print(rectangle.breadth)"
   ]
  },
  {
   "cell_type": "code",
   "execution_count": 9,
   "metadata": {},
   "outputs": [
    {
     "name": "stdout",
     "output_type": "stream",
     "text": [
      "10\n",
      "20\n",
      "calculating area -  200\n"
     ]
    }
   ],
   "source": [
    "class Box:\n",
    "    length = 10\n",
    "    breadth = 20\n",
    "    \n",
    "    \n",
    "    def calculatearea(self):\n",
    "        print(\"calculating area - \",self.length*self.breadth)\n",
    "        \n",
    "class Rectangle(Box):\n",
    "    pass\n",
    "\n",
    "rectangle = Rectangle()\n",
    "\n",
    "print(rectangle.length)\n",
    "print(rectangle.breadth)\n",
    "rectangle.calculatearea()\n",
    "\n"
   ]
  },
  {
   "cell_type": "code",
   "execution_count": 10,
   "metadata": {},
   "outputs": [
    {
     "name": "stdout",
     "output_type": "stream",
     "text": [
      "True\n",
      "True\n",
      "True\n",
      "False\n",
      "False\n",
      "True\n"
     ]
    }
   ],
   "source": [
    "\n",
    "\n",
    "\"\"\"\n",
    "Function isinstance() returns True if the object is an instance of the class or other classes derived from it. \n",
    "Each and every class in Python inherits from the base class object\n",
    "\"\"\"\n",
    "\n",
    "print(isinstance(rectangle,Rectangle))\n",
    "print(isinstance(rectangle,Box))\n",
    "print(isinstance(rectangle,object))\n",
    "print(isinstance(rectangle,int))\n",
    "\n",
    "\n",
    "\n",
    "\n",
    "\"\"\"\n",
    "issubclass() are used to check inheritances.\n",
    "\"\"\"\n",
    "\n",
    "print(issubclass(Box,Rectangle))\n",
    "print(issubclass(Rectangle,Box))"
   ]
  },
  {
   "cell_type": "code",
   "execution_count": 11,
   "metadata": {},
   "outputs": [],
   "source": [
    "class Base1:\n",
    "    pass\n",
    "\n",
    "class Base2:\n",
    "    pass\n",
    "\n",
    "class MultiDerived(Base1, Base2):\n",
    "    pass"
   ]
  },
  {
   "cell_type": "code",
   "execution_count": 12,
   "metadata": {},
   "outputs": [],
   "source": [
    "class Base:\n",
    "    pass\n",
    "\n",
    "class Derived1(Base):\n",
    "    pass\n",
    "\n",
    "class Derived2(Derived1):\n",
    "    pass"
   ]
  },
  {
   "cell_type": "code",
   "execution_count": 13,
   "metadata": {},
   "outputs": [
    {
     "name": "stdout",
     "output_type": "stream",
     "text": [
      "Hello Cube Area\n"
     ]
    }
   ],
   "source": [
    "class Square: \n",
    "\n",
    "    def area(self): \n",
    "        print(\"Hello Square Area\")\n",
    "\n",
    "class Cube(Square): # Function Overriding\n",
    "    def area(self): \n",
    "        print(\"Hello Cube Area\")\n",
    "\n",
    "\n",
    "\n",
    "    \n",
    "    \n",
    "cube = Cube()\n",
    "cube.area()\n"
   ]
  },
  {
   "cell_type": "code",
   "execution_count": 14,
   "metadata": {},
   "outputs": [
    {
     "name": "stdout",
     "output_type": "stream",
     "text": [
      "Hello Square Area\n"
     ]
    }
   ],
   "source": [
    "class Square: \n",
    "\n",
    "    def area(self): \n",
    "        print(\"Hello Square Area\")\n",
    "\n",
    "class Cube(Square): # Function overriding with super keyword\n",
    "    def area(self): \n",
    "        super().area()\n",
    "\n",
    "\n",
    "\n",
    "    \n",
    "    \n",
    "cube = Cube()\n",
    "cube.area()\n"
   ]
  },
  {
   "cell_type": "code",
   "execution_count": 15,
   "metadata": {},
   "outputs": [
    {
     "name": "stdout",
     "output_type": "stream",
     "text": [
      "216\n"
     ]
    }
   ],
   "source": [
    "class Square: \n",
    "    def __init__(self, side): \n",
    "        self.side = side \n",
    "\n",
    "    def area(self): \n",
    "        return self.side * self.side \n",
    "\n",
    "class Cube(Square): \n",
    "    def area(self): \n",
    "        face_area = self.side * self.side \n",
    "        return face_area * 6\n",
    "    \n",
    "    \n",
    "cube = Cube(6)\n",
    "print(cube.area())\n"
   ]
  },
  {
   "cell_type": "code",
   "execution_count": 17,
   "metadata": {},
   "outputs": [
    {
     "name": "stdout",
     "output_type": "stream",
     "text": [
      "216\n"
     ]
    }
   ],
   "source": [
    "class Square: \n",
    "    \n",
    "    def __init__(self, side): \n",
    "        self.side = side \n",
    "    def area(self): \n",
    "        return self.side * self.side \n",
    "\n",
    "class Cube(Square): \n",
    "\n",
    "    def carea(self): \n",
    "         return super().area() * 6\n",
    "  \n",
    "    \n",
    "    \n",
    "cube = Cube(6)\n",
    "print(cube.carea())\n"
   ]
  },
  {
   "cell_type": "code",
   "execution_count": null,
   "metadata": {},
   "outputs": [],
   "source": []
  }
 ],
 "metadata": {
  "kernelspec": {
   "display_name": "Python 3",
   "language": "python",
   "name": "python3"
  },
  "language_info": {
   "codemirror_mode": {
    "name": "ipython",
    "version": 3
   },
   "file_extension": ".py",
   "mimetype": "text/x-python",
   "name": "python",
   "nbconvert_exporter": "python",
   "pygments_lexer": "ipython3",
   "version": "3.7.3"
  }
 },
 "nbformat": 4,
 "nbformat_minor": 2
}
