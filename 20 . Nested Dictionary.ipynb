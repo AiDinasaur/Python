{
 "cells": [
  {
   "cell_type": "code",
   "execution_count": 1,
   "metadata": {},
   "outputs": [
    {
     "name": "stdout",
     "output_type": "stream",
     "text": [
      "{'a': 33, 'b': 44}\n",
      "<class 'dict'>\n",
      "a\n",
      "b\n",
      "33\n",
      "44\n"
     ]
    }
   ],
   "source": [
    "\"\"\"\n",
    "A nested dictionary is created the same way a normal dictionary is created.\n",
    "The only difference is that each value is another dictionary.\n",
    "\n",
    "\"\"\"\n",
    "x = {\"a\":33 ,\"b\":44} # normal dictionary\n",
    "print(x)\n",
    "print(type(x))\n",
    "\n",
    "for i in x.keys():\n",
    "    print(i)\n",
    "    \n",
    "for i in x.values():\n",
    "    print(i)"
   ]
  },
  {
   "cell_type": "code",
   "execution_count": 2,
   "metadata": {},
   "outputs": [
    {
     "name": "stdout",
     "output_type": "stream",
     "text": [
      "a\n",
      "b\n",
      "{'x': 10, 'y': 20}\n",
      "44\n"
     ]
    }
   ],
   "source": [
    "y = {\"a\":{\"x\":10,\"y\":20} ,\"b\":44} # nested dictionary , value of key \"a\" is another dictionary\n",
    "\n",
    "\n",
    "for i in y.keys():\n",
    "    print(i)\n",
    "    \n",
    "    \n",
    "for i in y.values():\n",
    "    print(i)"
   ]
  },
  {
   "cell_type": "code",
   "execution_count": 3,
   "metadata": {},
   "outputs": [
    {
     "name": "stdout",
     "output_type": "stream",
     "text": [
      "student1\n",
      "student2\n",
      "student3\n",
      "{'name': 'Kumar', 'college': 'IIT'}\n",
      "{'name': 'Ram', 'college': 'VIT'}\n",
      "{'name': 'Suresh', 'college': 'SRM'}\n"
     ]
    }
   ],
   "source": [
    "d = {'student1': {'name': 'Kumar', 'college': 'IIT'},\n",
    "     'student2': {'name': 'Ram', 'college': 'VIT'},\n",
    "     'student3': {'name': 'Suresh', 'college': 'SRM'}}\n",
    "\n",
    "for i in d.keys():\n",
    "    print(i)\n",
    "    \n",
    "for i in d.values():\n",
    "    print(i)"
   ]
  },
  {
   "cell_type": "code",
   "execution_count": 4,
   "metadata": {},
   "outputs": [
    {
     "name": "stdout",
     "output_type": "stream",
     "text": [
      "{'student1': {'name': 'Kumar', 'college': 'IIT'}, 'student2': {'name': 'Ram', 'college': 'VIT'}, 'student3': {'name': 'Suresh', 'college': 'SRM'}}\n"
     ]
    }
   ],
   "source": [
    "d = dict(student1= {'name': 'Kumar', 'college': 'IIT'},\n",
    "         student2= {'name': 'Ram', 'college': 'VIT'},\n",
    "         student3= {'name': 'Suresh', 'college': 'SRM'})\n",
    "print(d)"
   ]
  },
  {
   "cell_type": "code",
   "execution_count": 5,
   "metadata": {},
   "outputs": [
    {
     "name": "stdout",
     "output_type": "stream",
     "text": [
      "[('x', 1), ('y', 2)]\n"
     ]
    }
   ],
   "source": [
    "a = [\"x\",\"y\"]\n",
    "b = [1,2]\n",
    "c = list(zip(a,b))\n",
    "print(c)"
   ]
  },
  {
   "cell_type": "code",
   "execution_count": 6,
   "metadata": {},
   "outputs": [
    {
     "name": "stdout",
     "output_type": "stream",
     "text": [
      "{'student1': {'name': 'Kumar', 'college': 'IIT'}, 'student2': {'name': 'Ram', 'college': 'VIT'}, 'student3': {'name': 'Suresh', 'college': 'SRM'}}\n"
     ]
    }
   ],
   "source": [
    "studentid = ['student1','student2','student3']\n",
    "\n",
    "studentinfo = [{'name': 'Kumar', 'college': 'IIT'},{'name': 'Ram', 'college': 'VIT'},{'name': 'Suresh', 'college': 'SRM'}]\n",
    "\n",
    "print(dict(zip(studentid,studentinfo)))"
   ]
  },
  {
   "cell_type": "raw",
   "metadata": {},
   "source": [
    "Acessing Nested Dictionary"
   ]
  },
  {
   "cell_type": "code",
   "execution_count": 7,
   "metadata": {},
   "outputs": [
    {
     "name": "stdout",
     "output_type": "stream",
     "text": [
      "1\n"
     ]
    }
   ],
   "source": [
    "d = {\"x\":1,\"y\":2}\n",
    "print(d[\"x\"])"
   ]
  },
  {
   "cell_type": "code",
   "execution_count": 8,
   "metadata": {},
   "outputs": [
    {
     "name": "stdout",
     "output_type": "stream",
     "text": [
      "Kumar\n",
      "A\n"
     ]
    },
    {
     "ename": "KeyError",
     "evalue": "'school'",
     "output_type": "error",
     "traceback": [
      "\u001b[1;31m---------------------------------------------------------------------------\u001b[0m",
      "\u001b[1;31mKeyError\u001b[0m                                  Traceback (most recent call last)",
      "\u001b[1;32m<ipython-input-8-6729c2acb606>\u001b[0m in \u001b[0;36m<module>\u001b[1;34m\u001b[0m\n\u001b[0;32m      5\u001b[0m \u001b[0mprint\u001b[0m\u001b[1;33m(\u001b[0m\u001b[0md\u001b[0m\u001b[1;33m[\u001b[0m\u001b[1;34m'student1'\u001b[0m\u001b[1;33m]\u001b[0m\u001b[1;33m[\u001b[0m\u001b[1;34m'name'\u001b[0m\u001b[1;33m]\u001b[0m\u001b[1;33m)\u001b[0m\u001b[1;33m\u001b[0m\u001b[1;33m\u001b[0m\u001b[0m\n\u001b[0;32m      6\u001b[0m \u001b[0mprint\u001b[0m\u001b[1;33m(\u001b[0m\u001b[0md\u001b[0m\u001b[1;33m[\u001b[0m\u001b[1;34m'student1'\u001b[0m\u001b[1;33m]\u001b[0m\u001b[1;33m[\u001b[0m\u001b[1;34m'section'\u001b[0m\u001b[1;33m]\u001b[0m\u001b[1;33m)\u001b[0m\u001b[1;33m\u001b[0m\u001b[1;33m\u001b[0m\u001b[0m\n\u001b[1;32m----> 7\u001b[1;33m \u001b[0mprint\u001b[0m\u001b[1;33m(\u001b[0m\u001b[0md\u001b[0m\u001b[1;33m[\u001b[0m\u001b[1;34m'student1'\u001b[0m\u001b[1;33m]\u001b[0m\u001b[1;33m[\u001b[0m\u001b[1;34m'school'\u001b[0m\u001b[1;33m]\u001b[0m\u001b[1;33m)\u001b[0m\u001b[1;31m# will raise key error , if key not present\u001b[0m\u001b[1;33m\u001b[0m\u001b[1;33m\u001b[0m\u001b[0m\n\u001b[0m",
      "\u001b[1;31mKeyError\u001b[0m: 'school'"
     ]
    }
   ],
   "source": [
    "d = {'student1': {'name': 'Kumar', 'college': 'IIT',\"section\":\"A\"},\n",
    "     'student2': {'name': 'Ram', 'college': 'VIT'},\n",
    "     'student3': {'name': 'Suresh', 'college': 'SRM'}}\n",
    "\n",
    "print(d['student1']['name']) \n",
    "print(d['student1']['section'])\n",
    "print(d['student1']['school'])# will raise key error , if key not present"
   ]
  },
  {
   "cell_type": "code",
   "execution_count": 9,
   "metadata": {},
   "outputs": [
    {
     "name": "stdout",
     "output_type": "stream",
     "text": [
      "Kumar\n",
      "None\n"
     ]
    }
   ],
   "source": [
    "print(d['student1'].get('name')) # will not raise key error\n",
    "print(d['student1'].get('school')) # will not raise key error"
   ]
  },
  {
   "cell_type": "code",
   "execution_count": 10,
   "metadata": {},
   "outputs": [
    {
     "name": "stdout",
     "output_type": "stream",
     "text": [
      "{'x': 'France', 'y': 'Java'}\n"
     ]
    }
   ],
   "source": [
    "d = {\"x\":\"Python\",\"y\":\"Java\"}\n",
    "\n",
    "d[\"x\"] = \"France\"\n",
    "\n",
    "print(d)"
   ]
  },
  {
   "cell_type": "code",
   "execution_count": 11,
   "metadata": {},
   "outputs": [
    {
     "name": "stdout",
     "output_type": "stream",
     "text": [
      "{'student1': {'name': 'Jhon', 'college': 'IIT'}, 'student2': {'name': 'Ram', 'college': 'VIT'}, 'student3': {'name': 'Suresh', 'college': 'SRM'}}\n"
     ]
    }
   ],
   "source": [
    "d = {'student1': {'name': 'Kumar', 'college': 'IIT'},\n",
    "     'student2': {'name': 'Ram', 'college': 'VIT'},\n",
    "     'student3': {'name': 'Suresh', 'college': 'SRM'}}\n",
    "\n",
    "d['student1']['name'] = \"Jhon\" # changing one record\n",
    "print(d)"
   ]
  },
  {
   "cell_type": "code",
   "execution_count": 12,
   "metadata": {},
   "outputs": [
    {
     "name": "stdout",
     "output_type": "stream",
     "text": [
      "{'student1': {'name': 'Jhon', 'college': 'Oxford'}, 'student2': {'name': 'Ram', 'college': 'VIT'}, 'student3': {'name': 'Suresh', 'college': 'SRM'}}\n"
     ]
    }
   ],
   "source": [
    "d = {'student1': {'name': 'Kumar', 'college': 'IIT'},\n",
    "     'student2': {'name': 'Ram', 'college': 'VIT'},\n",
    "     'student3': {'name': 'Suresh', 'college': 'SRM'}}\n",
    "\n",
    "d['student1'] = {'name':\"Jhon\",'college':'Oxford'}\n",
    "print(d)"
   ]
  },
  {
   "cell_type": "code",
   "execution_count": 13,
   "metadata": {},
   "outputs": [
    {
     "name": "stdout",
     "output_type": "stream",
     "text": [
      "{'student1': {'name': 'Kumar', 'college': 'IIT'}, 'student2': {'name': 'Ram', 'college': 'VIT'}}\n"
     ]
    }
   ],
   "source": [
    "d1 = {'student1': {'name': 'Kumar', 'college': 'IIT'}}\n",
    "d2 = {'student2': {'name': 'Ram', 'college': 'VIT'}}\n",
    "\n",
    "d1.update(d2)\n",
    "print(d1)"
   ]
  },
  {
   "cell_type": "code",
   "execution_count": 14,
   "metadata": {},
   "outputs": [
    {
     "name": "stdout",
     "output_type": "stream",
     "text": [
      "{'name': 'Suresh', 'college': 'SRM'}\n",
      "{'student1': {'name': 'Kumar', 'college': 'IIT'}, 'student2': {'name': 'Ram', 'college': 'VIT'}}\n"
     ]
    }
   ],
   "source": [
    "d = {'student1': {'name': 'Kumar', 'college': 'IIT'},\n",
    "     'student2': {'name': 'Ram', 'college': 'VIT'},\n",
    "     'student3': {'name': 'Suresh', 'college': 'SRM'}}\n",
    "\n",
    "x = d.pop('student3')\n",
    "print(x)\n",
    "print(d)"
   ]
  },
  {
   "cell_type": "code",
   "execution_count": 15,
   "metadata": {},
   "outputs": [
    {
     "name": "stdout",
     "output_type": "stream",
     "text": [
      "{'student1': {'name': 'Kumar', 'college': 'IIT'}, 'student2': {'name': 'Ram', 'college': 'VIT'}}\n"
     ]
    }
   ],
   "source": [
    "\n",
    "d = {'student1': {'name': 'Kumar', 'college': 'IIT'},\n",
    "     'student2': {'name': 'Ram', 'college': 'VIT'},\n",
    "     'student3': {'name': 'Suresh', 'college': 'SRM'}}\n",
    "\n",
    "del d['student3']\n",
    "\n",
    "print(d)"
   ]
  },
  {
   "cell_type": "code",
   "execution_count": 16,
   "metadata": {},
   "outputs": [
    {
     "name": "stdout",
     "output_type": "stream",
     "text": [
      "{'student1': {'name': 'Kumar', 'college': 'IIT'}, 'student2': {'name': 'Ram', 'college': 'VIT'}}\n"
     ]
    }
   ],
   "source": [
    "\n",
    "d = {'student1': {'name': 'Kumar', 'college': 'IIT'},\n",
    "     'student2': {'name': 'Ram', 'college': 'VIT'},\n",
    "     'student3': {'name': 'Suresh', 'college': 'SRM'}}\n",
    "\n",
    "x = d.popitem() # removes last item , before 3.7 removes random item\n",
    "#print(x)\n",
    "print(d)"
   ]
  },
  {
   "cell_type": "code",
   "execution_count": 17,
   "metadata": {},
   "outputs": [
    {
     "name": "stdout",
     "output_type": "stream",
     "text": [
      "a\n",
      "1\n",
      "One item over\n",
      "b\n",
      "2\n",
      "One item over\n",
      "c\n",
      "3\n",
      "One item over\n"
     ]
    }
   ],
   "source": [
    "x = {\"a\":1,\"b\":2,\"c\":3}\n",
    "\n",
    "for i,j in x.items():\n",
    "    print(i)\n",
    "    print(j)\n",
    "    print(\"One item over\")"
   ]
  },
  {
   "cell_type": "code",
   "execution_count": 18,
   "metadata": {},
   "outputs": [
    {
     "name": "stdout",
     "output_type": "stream",
     "text": [
      "a\n",
      "b\n",
      "c\n",
      "a 1\n",
      "b 2\n",
      "c 3\n"
     ]
    }
   ],
   "source": [
    "x = {\"a\":1,\"b\":2,\"c\":3}\n",
    "\n",
    "\"\"\"\n",
    "for i in x.keys(): # prints the keys\n",
    "    print(i)\n",
    "    \n",
    "for i in x.values(): # prints the values\n",
    "    print(i)\n",
    "\n",
    "\"\"\"\n",
    "    \n",
    "for i in x:\n",
    "    print(i) # prints the keys\n",
    "    \n",
    "    \n",
    "for i in x:\n",
    "    print(i,x[i]) # print both keys and values"
   ]
  },
  {
   "cell_type": "code",
   "execution_count": 19,
   "metadata": {},
   "outputs": [
    {
     "name": "stdout",
     "output_type": "stream",
     "text": [
      "1 Product information\n",
      "Company iphone\n",
      "model XR\n",
      "OS IOS\n",
      "price 67000\n",
      "************\n",
      "2 Product information\n",
      "Company Samsung\n",
      "model Note 10\n",
      "OS Android\n",
      "price 87000\n",
      "************\n",
      "3 Product information\n",
      "Company Nokia\n",
      "model A7\n",
      "OS Android\n",
      "price 17000\n",
      "************\n"
     ]
    }
   ],
   "source": [
    "mobiles = {\n",
    "\n",
    "         1: {'Company':'iphone', 'model':'XR', 'OS':'IOS', \"price\":67000} ,  \n",
    "         2: {'Company':'Samsung', 'model':'Note 10', \"OS\":'Android', 'price':87000},\n",
    "         3: {'Company':'Nokia', 'model':'A7', 'OS':'Android', 'price':17000}\n",
    "}\n",
    "\n",
    "for i , k in mobiles.items():\n",
    "    print(i, 'Product information')\n",
    "    \n",
    "    for j in k: # {'Company':'iphone', 'model':'XR', 'OS':'IOS', \"price\":67000}\n",
    "        print(j, k[j])\n",
    "    print(\"************\")\n"
   ]
  },
  {
   "cell_type": "code",
   "execution_count": 20,
   "metadata": {},
   "outputs": [
    {
     "name": "stdout",
     "output_type": "stream",
     "text": [
      "\n",
      "Person ID: 1\n",
      "Name: John\n",
      "Age: 27\n",
      "Sex: Male\n",
      "\n",
      "Person ID: 2\n",
      "Name: Marie\n",
      "Age: 22\n",
      "Sex: Female\n"
     ]
    }
   ],
   "source": [
    "people = {1: {'Name': 'John', 'Age': '27', 'Sex': 'Male'},\n",
    "          2: {'Name': 'Marie', 'Age': '22', 'Sex': 'Female'}}\n",
    "\n",
    "for p_id, p_info in people.items():\n",
    "    print(\"\\nPerson ID:\", p_id)\n",
    "    \n",
    "    for key in p_info:\n",
    "        print(key + ':', p_info[key])"
   ]
  }
 ],
 "metadata": {
  "kernelspec": {
   "display_name": "Python 3",
   "language": "python",
   "name": "python3"
  },
  "language_info": {
   "codemirror_mode": {
    "name": "ipython",
    "version": 3
   },
   "file_extension": ".py",
   "mimetype": "text/x-python",
   "name": "python",
   "nbconvert_exporter": "python",
   "pygments_lexer": "ipython3",
   "version": "3.7.3"
  }
 },
 "nbformat": 4,
 "nbformat_minor": 2
}
