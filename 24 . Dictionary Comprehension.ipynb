{
 "cells": [
  {
   "cell_type": "markdown",
   "metadata": {},
   "source": [
    "# Dictionary Comprehension"
   ]
  },
  {
   "cell_type": "code",
   "execution_count": 1,
   "metadata": {},
   "outputs": [
    {
     "name": "stdout",
     "output_type": "stream",
     "text": [
      "{'x': 1, 'y': 2, 'z': 3}\n",
      "<class 'dict'>\n",
      "dict_keys(['x', 'y', 'z'])\n",
      "dict_values([1, 2, 3])\n",
      "dict_items([('x', 1), ('y', 2), ('z', 3)])\n"
     ]
    }
   ],
   "source": [
    "d = {\"x\":1,\"y\":2,\"z\":3}\n",
    "print(d)\n",
    "print(type(d))\n",
    "print(d.keys())\n",
    "print(d.values())\n",
    "print(d.items())"
   ]
  },
  {
   "cell_type": "code",
   "execution_count": 2,
   "metadata": {},
   "outputs": [
    {
     "name": "stdout",
     "output_type": "stream",
     "text": [
      "x\n",
      "y\n",
      "z\n"
     ]
    }
   ],
   "source": [
    "for i in d.keys():\n",
    "    print(i)"
   ]
  },
  {
   "cell_type": "code",
   "execution_count": 3,
   "metadata": {},
   "outputs": [
    {
     "name": "stdout",
     "output_type": "stream",
     "text": [
      "1\n",
      "2\n",
      "3\n"
     ]
    }
   ],
   "source": [
    "for j in d.values():\n",
    "    print(j)"
   ]
  },
  {
   "cell_type": "code",
   "execution_count": 4,
   "metadata": {},
   "outputs": [
    {
     "name": "stdout",
     "output_type": "stream",
     "text": [
      "('x', 1)\n",
      "('y', 2)\n",
      "('z', 3)\n"
     ]
    }
   ],
   "source": [
    "for k in d.items():\n",
    "    print(k)"
   ]
  },
  {
   "cell_type": "markdown",
   "metadata": {},
   "source": [
    "# General Template for Dictionary Comprehension"
   ]
  },
  {
   "cell_type": "raw",
   "metadata": {},
   "source": [
    "dict_variable = {key:value for (key,value) in dictonary.items()}"
   ]
  },
  {
   "cell_type": "code",
   "execution_count": 5,
   "metadata": {},
   "outputs": [
    {
     "name": "stdout",
     "output_type": "stream",
     "text": [
      "{'x': 2, 'y': 4, 'z': 6}\n"
     ]
    }
   ],
   "source": [
    "d = {\"x\":1,\"y\":2,\"z\":3}\n",
    "\n",
    "# Double each value in the dictionary\n",
    "doubles = {k:v*2 for (k,v) in d.items()}\n",
    "print(doubles)"
   ]
  },
  {
   "cell_type": "code",
   "execution_count": 6,
   "metadata": {},
   "outputs": [
    {
     "name": "stdout",
     "output_type": "stream",
     "text": [
      "{'xx': 1, 'yy': 2, 'zz': 3}\n"
     ]
    }
   ],
   "source": [
    "d = {\"x\":1,\"y\":2,\"z\":3}\n",
    "\n",
    "# Double each key in the dictionary\n",
    "dict1_keys = {k*2:v for (k,v) in d.items()}\n",
    "print(dict1_keys)"
   ]
  },
  {
   "cell_type": "markdown",
   "metadata": {},
   "source": [
    "# Avoiding Lambda ,map "
   ]
  },
  {
   "cell_type": "code",
   "execution_count": 7,
   "metadata": {},
   "outputs": [
    {
     "name": "stdout",
     "output_type": "stream",
     "text": [
      "{0: 0, 2: 4, 4: 16, 6: 36, 8: 64}\n"
     ]
    }
   ],
   "source": [
    "\"\"\"\n",
    "numbers = range(10)\n",
    "new_dict_for = {}\n",
    "\n",
    "# Add values to `new_dict` using for loop\n",
    "for n in numbers:\n",
    "    if n%2==0:\n",
    "        new_dict_for[n] = n**2\n",
    "\n",
    "print(new_dict_for)\n",
    "\n",
    "\"\"\"\n",
    "numbers = range(10)\n",
    "# Use dictionary comprehension\n",
    "new_dict_comp = {n:n**2 for n in numbers if n%2 == 0}\n",
    "\n",
    "print(new_dict_comp)"
   ]
  },
  {
   "cell_type": "code",
   "execution_count": 8,
   "metadata": {},
   "outputs": [
    {
     "name": "stdout",
     "output_type": "stream",
     "text": [
      "{'t1': -34.44444444444444, 't2': -28.88888888888889, 't3': -23.333333333333336, 't4': -17.77777777777778}\n"
     ]
    }
   ],
   "source": [
    "\"\"\"\n",
    "# Initialize `fahrenheit` dictionary \n",
    "fahrenheit = {'t1':-30, 't2':-20, 't3':-10, 't4':0}\n",
    "\n",
    "#Get the corresponding `celsius` values\n",
    "celsius = list(map(lambda x: (float(5)/9)*(x-32), fahrenheit.values()))\n",
    "\n",
    "#Create the `celsius` dictionary\n",
    "celsius_dict = dict(zip(fahrenheit.keys(), celsius))\n",
    "\n",
    "print(celsius_dict)\n",
    "\n",
    "\"\"\"\n",
    "\n",
    "# Initialize the `fahrenheit` dictionary \n",
    "fahrenheit = {'t1': -30,'t2': -20,'t3': -10,'t4': 0}\n",
    "\n",
    "# Get the corresponding `celsius` values and create the new dictionary\n",
    "celsius = {k:(float(5)/9)*(v-32) for (k,v) in fahrenheit.items()}\n",
    "\n",
    "print(celsius)"
   ]
  },
  {
   "cell_type": "markdown",
   "metadata": {},
   "source": [
    "# Dictionary Comprehension with if"
   ]
  },
  {
   "cell_type": "code",
   "execution_count": 9,
   "metadata": {},
   "outputs": [
    {
     "name": "stdout",
     "output_type": "stream",
     "text": [
      "{0: 0, 2: 4, 4: 16}\n"
     ]
    }
   ],
   "source": [
    "D = {x: x**2 for x in range(6) if x % 2 == 0}\n",
    "\"\"\"\n",
    "D = {}\n",
    "for x in range(5):\n",
    "    if x % 2 == 0:\n",
    "        D[x] = x**2\n",
    "\n",
    "print(D)\n",
    "# Prints {0: 0, 2: 4, 4: 16}\n",
    "\"\"\"\n",
    "print(D)"
   ]
  },
  {
   "cell_type": "code",
   "execution_count": 10,
   "metadata": {},
   "outputs": [
    {
     "name": "stdout",
     "output_type": "stream",
     "text": [
      "{'c': 3, 'd': 4, 'e': 5}\n"
     ]
    }
   ],
   "source": [
    "dict1 = {'a': 1, 'b': 2, 'c': 3, 'd': 4, 'e': 5}\n",
    "\n",
    "# Check for items greater than 2\n",
    "dict1_cond = {k:v for (k,v) in dict1.items() if v>2}\n",
    "\n",
    "print(dict1_cond)"
   ]
  },
  {
   "cell_type": "code",
   "execution_count": 11,
   "metadata": {},
   "outputs": [
    {
     "name": "stdout",
     "output_type": "stream",
     "text": [
      "{'f': 6}\n"
     ]
    }
   ],
   "source": [
    "dict1 = {'a': 1, 'b': 2, 'c': 3, 'd': 4, 'e': 5, 'f':6}\n",
    "\n",
    "dict1_tripleCond = {k:v for (k,v) in dict1.items() if v>2 if v%2 == 0 if v%3 == 0}\n",
    "\n",
    "print(dict1_tripleCond)"
   ]
  },
  {
   "cell_type": "code",
   "execution_count": 12,
   "metadata": {},
   "outputs": [
    {
     "name": "stdout",
     "output_type": "stream",
     "text": [
      "{0: 0, 1: 1, 2: 4, 3: 9, 4: 16}\n"
     ]
    }
   ],
   "source": [
    "D = {}\n",
    "D[0] = 0\n",
    "D[1] = 1\n",
    "D[2] = 4\n",
    "D[3] = 9\n",
    "D[4] = 16\n",
    "print(D)\n",
    "# Prints {0: 0, 1: 1, 2: 4, 3: 9, 4: 16}"
   ]
  },
  {
   "cell_type": "code",
   "execution_count": 13,
   "metadata": {},
   "outputs": [
    {
     "name": "stdout",
     "output_type": "stream",
     "text": [
      "{0: 0, 1: 1, 2: 4, 3: 9, 4: 16}\n"
     ]
    }
   ],
   "source": [
    "D = {}\n",
    "for x in range(5):\n",
    "    D[x] = x**2\n",
    "\n",
    "print(D)\n",
    "# Prints {0: 0, 1: 1, 2: 4, 3: 9, 4: 16}"
   ]
  },
  {
   "cell_type": "code",
   "execution_count": 14,
   "metadata": {},
   "outputs": [
    {
     "name": "stdout",
     "output_type": "stream",
     "text": [
      "{0: 0, 1: 1, 2: 4, 3: 9, 4: 16}\n"
     ]
    }
   ],
   "source": [
    "D = {x: x**2 for x in range(5)}\n",
    "print(D)\n",
    "# Prints {0: 0, 1: 1, 2: 4, 3: 9, 4: 16}"
   ]
  },
  {
   "cell_type": "code",
   "execution_count": 15,
   "metadata": {},
   "outputs": [
    {
     "name": "stdout",
     "output_type": "stream",
     "text": [
      "{'R': 'RRR', 'E': 'EEE', 'D': 'DDD'}\n"
     ]
    }
   ],
   "source": [
    "D = {c: c * 3 for c in 'RED'}\n",
    "print(D)\n",
    "# Prints {'R': 'RRR', 'E': 'EEE', 'D': 'DDD'}"
   ]
  },
  {
   "cell_type": "code",
   "execution_count": 16,
   "metadata": {},
   "outputs": [
    {
     "name": "stdout",
     "output_type": "stream",
     "text": [
      "{'R': 'RRR', 'E': 'EEE', 'D': 'DDD'}\n"
     ]
    }
   ],
   "source": [
    "D = {c: c * 3 for c in 'RED'}\n",
    "print(D)\n",
    "# Prints {'R': 'RRR', 'E': 'EEE', 'D': 'DDD'}"
   ]
  },
  {
   "cell_type": "code",
   "execution_count": 17,
   "metadata": {},
   "outputs": [
    {
     "name": "stdout",
     "output_type": "stream",
     "text": [
      "{0: 'A', 2: 'C', 5: 'F'}\n"
     ]
    }
   ],
   "source": [
    "D = {0: 'A', 1: 'B', 2: 'C', 3: 'D', 4: 'E', 5: 'F'} # Extracting a Subset of a Dictionary\n",
    "selectedKeys = [0, 2, 5]\n",
    "\n",
    "X = {k: D[k] for k in selectedKeys}\n",
    "\n",
    "print(X)"
   ]
  },
  {
   "cell_type": "code",
   "execution_count": 18,
   "metadata": {},
   "outputs": [
    {
     "name": "stdout",
     "output_type": "stream",
     "text": [
      "{1: 'B', 3: 'D', 4: 'E'}\n"
     ]
    }
   ],
   "source": [
    "D = {0: 'A', 1: 'B', 2: 'C', 3: 'D', 4: 'E', 5: 'F'} #Filter Dictionary Contents\n",
    "removeKeys = [0, 2, 5]\n",
    "\n",
    "X = {k: D[k] for k in D.keys() - removeKeys}\n",
    "\n",
    "print(X)"
   ]
  },
  {
   "cell_type": "code",
   "execution_count": 19,
   "metadata": {},
   "outputs": [
    {
     "name": "stdout",
     "output_type": "stream",
     "text": [
      "{'red': 0, 'green': 1, 'blue': 2}\n"
     ]
    }
   ],
   "source": [
    "D = {0: 'red', 1: 'green', 2: 'blue'} # Invert Mapping / Reverse lookup\n",
    "R = {v: k for k,v in D.items()}\n",
    "print(R)\n",
    "# Prints {'red': 0, 'green': 1, 'blue': 2}"
   ]
  },
  {
   "cell_type": "code",
   "execution_count": 20,
   "metadata": {},
   "outputs": [
    {
     "name": "stdout",
     "output_type": "stream",
     "text": [
      "{'name': 'Bob', 'age': 25, 'job': 'Dev'}\n",
      "{'name': 'Bob', 'age': 25, 'job': 'Dev'}\n"
     ]
    }
   ],
   "source": [
    "keys = ['name', 'age', 'job'] # creating dictonary with dictionary comprehension\n",
    "values = ['Bob', 25, 'Dev']\n",
    "\n",
    "# using dict comprehension\n",
    "D = {k: v for (k, v) in zip(keys, values)}\n",
    "print(D)\n",
    "# Prints {'name': 'Bob', 'age': 25, 'job': 'Dev'}\n",
    "\n",
    "# equivalent to using dict() on zipped keys/values\n",
    "D = dict(zip(keys, values))\n",
    "print(D)\n",
    "# Prints {'name': 'Bob', 'age': 25, 'job': 'Dev'}"
   ]
  },
  {
   "cell_type": "markdown",
   "metadata": {},
   "source": [
    "# Nested Dictionary Comprehension"
   ]
  },
  {
   "cell_type": "code",
   "execution_count": 21,
   "metadata": {},
   "outputs": [
    {
     "name": "stdout",
     "output_type": "stream",
     "text": [
      "{(0, 0): 0, (0, 1): 1, (1, 0): 1, (1, 1): 2}\n",
      "{(0, 0): 0, (0, 1): 1, (1, 0): 1, (1, 1): 2}\n"
     ]
    }
   ],
   "source": [
    "D = {(k,v): k+v for k in range(2) for v in range(2)}\n",
    "print(D)\n",
    "# Prints {(0, 1): 1, (1, 0): 1, (0, 0): 0, (1, 1): 2}\n",
    "\n",
    "# is equivalent to\n",
    "D = {}\n",
    "for k in range(2):\n",
    "    for v in range(2):\n",
    "        D[(k,v)] = k+v\n",
    "print(D)\n",
    "# Prints {(0, 1): 1, (1, 0): 1, (0, 0): 0, (1, 1): 2}"
   ]
  }
 ],
 "metadata": {
  "kernelspec": {
   "display_name": "Python 3",
   "language": "python",
   "name": "python3"
  },
  "language_info": {
   "codemirror_mode": {
    "name": "ipython",
    "version": 3
   },
   "file_extension": ".py",
   "mimetype": "text/x-python",
   "name": "python",
   "nbconvert_exporter": "python",
   "pygments_lexer": "ipython3",
   "version": "3.7.3"
  }
 },
 "nbformat": 4,
 "nbformat_minor": 2
}
