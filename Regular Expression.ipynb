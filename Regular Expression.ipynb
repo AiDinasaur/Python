{
 "cells": [
  {
   "cell_type": "markdown",
   "metadata": {},
   "source": [
    "# Regular Expression"
   ]
  },
  {
   "cell_type": "code",
   "execution_count": 1,
   "metadata": {},
   "outputs": [],
   "source": [
    "#match() -> to check a string starts with a particular pattern\n",
    "#search() -> to check a string contains a particular pattern\n",
    "#findall() - > to find the duplicates of a particular pattern\n",
    "#split() - > to split using a pattern\n",
    "#sub() - > to replace a patttern or string\n",
    "#compile() ->\n"
   ]
  },
  {
   "cell_type": "code",
   "execution_count": 2,
   "metadata": {},
   "outputs": [],
   "source": [
    "import re"
   ]
  },
  {
   "cell_type": "code",
   "execution_count": 3,
   "metadata": {},
   "outputs": [
    {
     "name": "stdout",
     "output_type": "stream",
     "text": [
      "On failure : None\n"
     ]
    }
   ],
   "source": [
    "str = \"python and java are easy to learn\"\n",
    "r1=re.match(r\"java\",str)\n",
    "\n",
    "if r1:\n",
    "    print(\"On Sucess :\",r1)\n",
    "else:\n",
    "    print(\"On failure :\",r1)\n"
   ]
  },
  {
   "cell_type": "code",
   "execution_count": 4,
   "metadata": {},
   "outputs": [
    {
     "name": "stdout",
     "output_type": "stream",
     "text": [
      "On Sucess : <re.Match object; span=(0, 6), match='python'>\n"
     ]
    }
   ],
   "source": [
    "str = \"python and java are easy to learn\"\n",
    "r1=re.match(r\"python\",str)\n",
    "\n",
    "if r1:\n",
    "    print(\"On Sucess :\",r1)\n",
    "else:\n",
    "    print(\"On failure :\",r1)\n"
   ]
  },
  {
   "cell_type": "code",
   "execution_count": 5,
   "metadata": {},
   "outputs": [
    {
     "name": "stdout",
     "output_type": "stream",
     "text": [
      "On Sucess : <re.Match object; span=(11, 15), match='java'>\n"
     ]
    }
   ],
   "source": [
    "str = \"python and java are easy to learn and java is still being used\"\n",
    "r1=re.search(r\"java\",str)\n",
    "\n",
    "if r1:\n",
    "    print(\"On Sucess :\",r1)\n",
    "else:\n",
    "    print(\"On failure :\",r1)\n"
   ]
  },
  {
   "cell_type": "code",
   "execution_count": 6,
   "metadata": {},
   "outputs": [
    {
     "name": "stdout",
     "output_type": "stream",
     "text": [
      "On Sucess : ['java', 'java']\n"
     ]
    }
   ],
   "source": [
    "str = \"python and java are easy to learn and java is still being used\"\n",
    "r1=re.findall(r\"java\",str)\n",
    "\n",
    "if r1:\n",
    "    print(\"On Sucess :\",r1)\n",
    "else:\n",
    "    print(\"On failure :\",r1)\n"
   ]
  },
  {
   "cell_type": "code",
   "execution_count": 7,
   "metadata": {},
   "outputs": [
    {
     "name": "stdout",
     "output_type": "stream",
     "text": [
      "['python ', ' java are easy to learn ', ' java is still being used']\n"
     ]
    }
   ],
   "source": [
    "str = \"python and java are easy to learn and java is still being used\"\n",
    "r1=re.split(r\"and\",str)\n",
    "print(r1)\n"
   ]
  },
  {
   "cell_type": "code",
   "execution_count": 8,
   "metadata": {},
   "outputs": [
    {
     "name": "stdout",
     "output_type": "stream",
     "text": [
      "john@xyz.com and sam@xyz.com\n"
     ]
    }
   ],
   "source": [
    "str = \"john@sdf.com and sam@qwe.com\"\n",
    "x = re.sub(r\"@\\w+\",\"@xyz\",str)\n",
    "print(x)"
   ]
  },
  {
   "cell_type": "code",
   "execution_count": 9,
   "metadata": {},
   "outputs": [
    {
     "name": "stdout",
     "output_type": "stream",
     "text": [
      "found pattern\n"
     ]
    }
   ],
   "source": [
    "comp = re.compile(\"[Jj]ava\")\n",
    "mystr = \"python is easier than java\"\n",
    "x = comp.search(mystr)\n",
    "\n",
    "if x:\n",
    "    print(\"found pattern\")\n",
    "else:\n",
    "    print(\"Not found\")"
   ]
  },
  {
   "cell_type": "markdown",
   "metadata": {},
   "source": [
    "# Some uses Cases"
   ]
  },
  {
   "cell_type": "code",
   "execution_count": 10,
   "metadata": {},
   "outputs": [
    {
     "name": "stdout",
     "output_type": "stream",
     "text": [
      "On Sucess : <re.Match object; span=(13, 20), match='regular'>\n"
     ]
    }
   ],
   "source": [
    "s =\"crazy python regular expressions\"\n",
    "r1=re.search(r\"regular\",s) # search for a literal (word)\n",
    "\n",
    "if r1:\n",
    "    print(\"On Sucess :\",r1)\n",
    "else:\n",
    "    print(\"On failure :\",r1)"
   ]
  },
  {
   "cell_type": "code",
   "execution_count": 11,
   "metadata": {},
   "outputs": [
    {
     "name": "stdout",
     "output_type": "stream",
     "text": [
      "Search successful. <re.Match object; span=(6, 12), match='python'>\n"
     ]
    }
   ],
   "source": [
    "mystr = \"crazy python regular expression , Python Ppython\" \n",
    "result = re.search(r\"[Pp]ython\", mystr)\n",
    "\n",
    "if result:\n",
    "  print(\"Search successful.\",result)\n",
    "else:\n",
    "  print(\"Search unsuccessful.\",result)"
   ]
  },
  {
   "cell_type": "code",
   "execution_count": 12,
   "metadata": {},
   "outputs": [
    {
     "name": "stdout",
     "output_type": "stream",
     "text": [
      "Search successful. <re.Match object; span=(0, 1), match='c'>\n"
     ]
    }
   ],
   "source": [
    "mystr = \"crazy python regular expression , Python Ppython\" \n",
    "result = re.search(r\"[a-m A-M 0-9]\", mystr) # will match everything a-m ,A-M,0-9\n",
    "\n",
    "if result:\n",
    "  print(\"Search successful.\",result)\n",
    "else:\n",
    "  print(\"Search unsuccessful.\",result)"
   ]
  },
  {
   "cell_type": "code",
   "execution_count": 13,
   "metadata": {},
   "outputs": [
    {
     "name": "stdout",
     "output_type": "stream",
     "text": [
      "Search successful. <re.Match object; span=(1, 2), match='r'>\n"
     ]
    }
   ],
   "source": [
    "mystr = \"crazy python regular expression , Python Ppython\" \n",
    "result = re.search(r\"[^a-m A-M 0-9]\", mystr)# will match everything expect the pattern\n",
    "\n",
    "if result:\n",
    "  print(\"Search successful.\",result)\n",
    "else:\n",
    "  print(\"Search unsuccessful.\",result)"
   ]
  },
  {
   "cell_type": "code",
   "execution_count": 14,
   "metadata": {},
   "outputs": [
    {
     "name": "stdout",
     "output_type": "stream",
     "text": [
      "Search successful. <re.Match object; span=(61, 62), match='1'>\n"
     ]
    }
   ],
   "source": [
    "mystr = \"crazy python regular expression , Python Ppython released in 1991\" \n",
    "result = re.search(r\"\\d\", mystr) # [0-9]\n",
    "\n",
    "if result:\n",
    "  print(\"Search successful.\",result)\n",
    "else:\n",
    "  print(\"Search unsuccessful.\",result)"
   ]
  },
  {
   "cell_type": "code",
   "execution_count": 15,
   "metadata": {},
   "outputs": [
    {
     "name": "stdout",
     "output_type": "stream",
     "text": [
      "Search successful. <re.Match object; span=(61, 62), match='1'>\n"
     ]
    }
   ],
   "source": [
    "mystr = \"crazy python regular expression , Python Ppython released in 1991\" \n",
    "result = re.search(r\"[0-9]\", mystr) # [0-9]\n",
    "\n",
    "if result:\n",
    "  print(\"Search successful.\",result)\n",
    "else:\n",
    "  print(\"Search unsuccessful.\",result)"
   ]
  },
  {
   "cell_type": "code",
   "execution_count": 16,
   "metadata": {},
   "outputs": [
    {
     "name": "stdout",
     "output_type": "stream",
     "text": [
      "Search successful. <re.Match object; span=(0, 1), match='c'>\n"
     ]
    }
   ],
   "source": [
    "mystr = \"crazy python regular expression , Python Ppython released in 1991\" \n",
    "result = re.search(r\"\\D\", mystr)#[^0-9]\n",
    "if result:\n",
    "  print(\"Search successful.\",result)\n",
    "else:\n",
    "  print(\"Search unsuccessful.\",result)"
   ]
  },
  {
   "cell_type": "code",
   "execution_count": 17,
   "metadata": {},
   "outputs": [
    {
     "name": "stdout",
     "output_type": "stream",
     "text": [
      "Search successful. <re.Match object; span=(0, 1), match='c'>\n"
     ]
    }
   ],
   "source": [
    "mystr = \"crazy python regular expression , Python Ppython released in 1991\" \n",
    "result = re.search(r\"[^0-9]\", mystr)#[^0-9]\n",
    "if result:\n",
    "  print(\"Search successful.\",result)\n",
    "else:\n",
    "  print(\"Search unsuccessful.\",result)"
   ]
  },
  {
   "cell_type": "code",
   "execution_count": 18,
   "metadata": {},
   "outputs": [
    {
     "name": "stdout",
     "output_type": "stream",
     "text": [
      "Search successful. <re.Match object; span=(5, 6), match=' '>\n"
     ]
    }
   ],
   "source": [
    "mystr = \"crazy python regular expression , Python Ppython released in 1991\" \n",
    "result = re.search(r\"\\s\", mystr)#will match white space character\n",
    "if result:\n",
    "  print(\"Search successful.\",result)\n",
    "else:\n",
    "  print(\"Search unsuccessful.\",result)"
   ]
  },
  {
   "cell_type": "code",
   "execution_count": 19,
   "metadata": {},
   "outputs": [
    {
     "name": "stdout",
     "output_type": "stream",
     "text": [
      "Search successful. <re.Match object; span=(0, 1), match='c'>\n"
     ]
    }
   ],
   "source": [
    "mystr = \"crazy python regular expression , Python Ppython released in 1991\" \n",
    "result = re.search(r\"\\S\", mystr)#will match expect white space character\n",
    "if result:\n",
    "  print(\"Search successful.\",result)\n",
    "else:\n",
    "  print(\"Search unsuccessful.\",result)"
   ]
  },
  {
   "cell_type": "code",
   "execution_count": 20,
   "metadata": {},
   "outputs": [
    {
     "name": "stdout",
     "output_type": "stream",
     "text": [
      "Search successful. <re.Match object; span=(0, 1), match='c'>\n"
     ]
    }
   ],
   "source": [
    "mystr = \"crazy python regular expression , Python Ppython released in 1991\" \n",
    "result = re.search(r\"\\w\", mystr)#will match a-z,A-z,0-9,_\n",
    "if result:\n",
    "  print(\"Search successful.\",result)\n",
    "else:\n",
    "  print(\"Search unsuccessful.\",result)"
   ]
  },
  {
   "cell_type": "code",
   "execution_count": 21,
   "metadata": {},
   "outputs": [
    {
     "name": "stdout",
     "output_type": "stream",
     "text": [
      "Search successful. <re.Match object; span=(5, 6), match=' '>\n"
     ]
    }
   ],
   "source": [
    "mystr = \"crazy python regular expression , Python Ppython released in 1991\" \n",
    "result = re.search(r\"\\W\", mystr)#will match expect a-z,A-z,0-9,_\n",
    "if result:\n",
    "  print(\"Search successful.\",result)\n",
    "else:\n",
    "  print(\"Search unsuccessful.\",result)"
   ]
  },
  {
   "cell_type": "code",
   "execution_count": 22,
   "metadata": {},
   "outputs": [
    {
     "name": "stdout",
     "output_type": "stream",
     "text": [
      "Search successful. <re.Match object; span=(0, 1), match='c'>\n"
     ]
    }
   ],
   "source": [
    "mystr = \"crazy python regular expression , Python Ppython released in 1991\" \n",
    "result = re.search(r\".\", mystr)#matches anything except the newline\n",
    "if result:\n",
    "  print(\"Search successful.\",result)\n",
    "else:\n",
    "  print(\"Search unsuccessful.\",result)"
   ]
  },
  {
   "cell_type": "code",
   "execution_count": 23,
   "metadata": {},
   "outputs": [
    {
     "name": "stdout",
     "output_type": "stream",
     "text": [
      "Search successful. <re.Match object; span=(6, 12), match='python'>\n"
     ]
    }
   ],
   "source": [
    "mystr = \"crazy python regular expression , Python Ppython released in 1991\" \n",
    "result = re.search(r\"python?\", mystr)#matches python and the end it will look for single n\n",
    "if result:\n",
    "  print(\"Search successful.\",result)\n",
    "else:\n",
    "  print(\"Search unsuccessful.\",result)"
   ]
  },
  {
   "cell_type": "code",
   "execution_count": 24,
   "metadata": {},
   "outputs": [
    {
     "name": "stdout",
     "output_type": "stream",
     "text": [
      "Search successful. <re.Match object; span=(6, 12), match='python'>\n"
     ]
    }
   ],
   "source": [
    "mystr = \"crazy python regular expression , Python Ppython released in 1991\" \n",
    "result = re.search(r\"python*\", mystr)#matches python and the end it will look for 0 or more n\n",
    "if result:\n",
    "  print(\"Search successful.\",result)\n",
    "else:\n",
    "  print(\"Search unsuccessful.\",result)"
   ]
  },
  {
   "cell_type": "code",
   "execution_count": 25,
   "metadata": {},
   "outputs": [
    {
     "name": "stdout",
     "output_type": "stream",
     "text": [
      "Search successful. <re.Match object; span=(6, 12), match='python'>\n"
     ]
    }
   ],
   "source": [
    "mystr = \"crazy python regular expression , Python Ppython released in 1991\" \n",
    "result = re.search(r\"python+\", mystr)#matches python and the end it will look for 1 or more n\n",
    "if result:\n",
    "  print(\"Search successful.\",result)\n",
    "else:\n",
    "  print(\"Search unsuccessful.\",result)"
   ]
  },
  {
   "cell_type": "code",
   "execution_count": 26,
   "metadata": {},
   "outputs": [
    {
     "name": "stdout",
     "output_type": "stream",
     "text": [
      "Search unsuccessful. None\n"
     ]
    }
   ],
   "source": [
    "mystr = \"crazy python regular expression , Python Ppython released in 1991\" \n",
    "result = re.search(r\"d{3}\", mystr)#matches only 3 digits\n",
    "if result:\n",
    "  print(\"Search successful.\",result)\n",
    "else:\n",
    "  print(\"Search unsuccessful.\",result)"
   ]
  },
  {
   "cell_type": "code",
   "execution_count": 27,
   "metadata": {},
   "outputs": [
    {
     "name": "stdout",
     "output_type": "stream",
     "text": [
      "Search successful. <re.Match object; span=(0, 6), match='Python'>\n"
     ]
    }
   ],
   "source": [
    "mystr = \"Python is easy to learn\" \n",
    "result = re.search(r\"^[Pp]ython\", mystr) # will check whether the string starts with the pattern\n",
    "if result:\n",
    "  print(\"Search successful.\",result)\n",
    "else:\n",
    "  print(\"Search unsuccessful.\",result)"
   ]
  },
  {
   "cell_type": "code",
   "execution_count": 28,
   "metadata": {},
   "outputs": [
    {
     "name": "stdout",
     "output_type": "stream",
     "text": [
      "Search successful. <re.Match object; span=(24, 30), match='python'>\n"
     ]
    }
   ],
   "source": [
    "mystr = \"Python is easy to learn python\" \n",
    "result = re.search(r\"[Pp]ython$\", mystr) # will check whether the string ends with the pattern\n",
    "if result:\n",
    "  print(\"Search successful.\",result)\n",
    "else:\n",
    "  print(\"Search unsuccessful.\",result)"
   ]
  },
  {
   "cell_type": "code",
   "execution_count": 29,
   "metadata": {},
   "outputs": [
    {
     "name": "stdout",
     "output_type": "stream",
     "text": [
      "Search successful. <re.Match object; span=(8, 14), match='Python'>\n"
     ]
    }
   ],
   "source": [
    "mystr = \"Pythonn Python Pythonnn\" \n",
    "result = re.search(r\"\\b[Pp]ython\\b\", mystr) # will look for exact python \n",
    "if result:\n",
    "  print(\"Search successful.\",result)\n",
    "else:\n",
    "  print(\"Search unsuccessful.\",result)"
   ]
  },
  {
   "cell_type": "code",
   "execution_count": 30,
   "metadata": {},
   "outputs": [
    {
     "name": "stdout",
     "output_type": "stream",
     "text": [
      "Search successful. <re.Match object; span=(0, 6), match='Python'>\n"
     ]
    }
   ],
   "source": [
    "mystr = \"Pythonn Python Pythonnn\" \n",
    "result = re.search(r\"\\b[Pp]ython\\B\", mystr)\n",
    "if result:\n",
    "  print(\"Search successful.\",result)\n",
    "else:\n",
    "  print(\"Search unsuccessful.\",result)"
   ]
  }
 ],
 "metadata": {
  "kernelspec": {
   "display_name": "Python 3",
   "language": "python",
   "name": "python3"
  },
  "language_info": {
   "codemirror_mode": {
    "name": "ipython",
    "version": 3
   },
   "file_extension": ".py",
   "mimetype": "text/x-python",
   "name": "python",
   "nbconvert_exporter": "python",
   "pygments_lexer": "ipython3",
   "version": "3.7.3"
  }
 },
 "nbformat": 4,
 "nbformat_minor": 2
}
