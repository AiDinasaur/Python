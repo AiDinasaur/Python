{
 "cells": [
  {
   "cell_type": "markdown",
   "metadata": {},
   "source": [
    "# Nested Tuples"
   ]
  },
  {
   "cell_type": "code",
   "execution_count": 1,
   "metadata": {},
   "outputs": [
    {
     "name": "stdout",
     "output_type": "stream",
     "text": [
      "2\n"
     ]
    }
   ],
   "source": [
    "a = (2,3,4,5)\n",
    "print(a[0])"
   ]
  },
  {
   "cell_type": "code",
   "execution_count": 4,
   "metadata": {},
   "outputs": [
    {
     "name": "stdout",
     "output_type": "stream",
     "text": [
      "('cc', 'dd', ('eee', 'fff'))\n",
      "('eee', 'fff')\n",
      "eee\n"
     ]
    }
   ],
   "source": [
    "t = ('a', 'b', ('cc', 'dd', ('eee', 'fff')), 'g', 'h')\n",
    "\n",
    "print(L[2])     \n",
    "print(L[2][2])     \n",
    "print(L[2][2][0]) "
   ]
  },
  {
   "cell_type": "code",
   "execution_count": 5,
   "metadata": {},
   "outputs": [
    {
     "name": "stdout",
     "output_type": "stream",
     "text": [
      "('cc', 'dd', ('eee', 'fff'))\n",
      "('eee', 'fff')\n",
      "eee\n"
     ]
    }
   ],
   "source": [
    "t = ('a', 'b', ('cc', 'dd', ('eee', 'fff')), 'g', 'h')\n",
    "print(L[-3])        \n",
    "print(L[-3][-1])      \n",
    "print(L[-3][-1][-2])  "
   ]
  },
  {
   "cell_type": "code",
   "execution_count": 6,
   "metadata": {},
   "outputs": [
    {
     "name": "stdout",
     "output_type": "stream",
     "text": [
      "a\n",
      "bb\n"
     ]
    }
   ],
   "source": [
    "L = ('a', ('bb', 'cc'), 'd')\n",
    "print(L[0])\n",
    "print(L[1][0])\n"
   ]
  },
  {
   "cell_type": "code",
   "execution_count": 1,
   "metadata": {},
   "outputs": [
    {
     "name": "stdout",
     "output_type": "stream",
     "text": [
      "3\n",
      "2\n"
     ]
    }
   ],
   "source": [
    "L = ('a', ('bb', 'cc'), 'd')\n",
    "print(len(L))       # \n",
    "print(len(L[1]))    # "
   ]
  },
  {
   "cell_type": "code",
   "execution_count": 3,
   "metadata": {},
   "outputs": [
    {
     "name": "stdout",
     "output_type": "stream",
     "text": [
      "1 2 3 4 5 6 7 8 9 "
     ]
    }
   ],
   "source": [
    "L = ((1, 2, 3),(4, 5, 6),(7, 8, 9)) \n",
    "for list in L:\n",
    "    for number in list:\n",
    "        print(number, end=' ')\n",
    "# Output: 1 2 3 4 5 6 7 8 9"
   ]
  },
  {
   "cell_type": "code",
   "execution_count": null,
   "metadata": {},
   "outputs": [],
   "source": []
  }
 ],
 "metadata": {
  "kernelspec": {
   "display_name": "Python 3",
   "language": "python",
   "name": "python3"
  },
  "language_info": {
   "codemirror_mode": {
    "name": "ipython",
    "version": 3
   },
   "file_extension": ".py",
   "mimetype": "text/x-python",
   "name": "python",
   "nbconvert_exporter": "python",
   "pygments_lexer": "ipython3",
   "version": "3.7.3"
  }
 },
 "nbformat": 4,
 "nbformat_minor": 2
}
