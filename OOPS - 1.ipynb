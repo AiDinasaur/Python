{
 "cells": [
  {
   "cell_type": "code",
   "execution_count": null,
   "metadata": {},
   "outputs": [],
   "source": [
    "oops - object oriented programming structure\n",
    "\n",
    "1950 - microcontroller/micropressor - Ram - 64kb , Rom(HDD) - 254 kb\n",
    "------------\n",
    "class | object ->\n",
    "\n",
    "class - idly vessel\n",
    "\n",
    "object - idly (shape,size)(properities of class)"
   ]
  },
  {
   "cell_type": "code",
   "execution_count": 5,
   "metadata": {},
   "outputs": [
    {
     "name": "stdout",
     "output_type": "stream",
     "text": [
      "10\n",
      "20\n",
      "10\n",
      "20\n"
     ]
    }
   ],
   "source": [
    "class Box:\n",
    "    \n",
    "    # 2 - properties -> length , breadth = 10,20\n",
    "    length = 10\n",
    "    breadth = 20\n",
    "    \n",
    "\n",
    "#syntax for object creation   \n",
    "#objectname = classname()\n",
    "\n",
    "\n",
    "box = Box() \n",
    "\"\"\"\n",
    "object will have the same properties of class\n",
    "\"\"\"\n",
    "print(box.length)\n",
    "print(box.breadth)\n",
    "\n",
    "box2 = Box()\n",
    "print(box2.length)\n",
    "print(box2.breadth)\n"
   ]
  },
  {
   "cell_type": "code",
   "execution_count": 12,
   "metadata": {},
   "outputs": [
    {
     "name": "stdout",
     "output_type": "stream",
     "text": [
      "10\n",
      "20\n"
     ]
    }
   ],
   "source": [
    "class Box:\n",
    "    \n",
    "    length = 10\n",
    "    breadth = 20\n",
    "    \n",
    "box = Box()\n",
    "\n",
    "print(box.length)\n",
    "print(box.breadth)"
   ]
  },
  {
   "cell_type": "code",
   "execution_count": 14,
   "metadata": {},
   "outputs": [],
   "source": [
    "def calculatearea():\n",
    "    print(\"Calculating area -\")"
   ]
  },
  {
   "cell_type": "code",
   "execution_count": 16,
   "metadata": {},
   "outputs": [
    {
     "name": "stdout",
     "output_type": "stream",
     "text": [
      "Calculating area -\n"
     ]
    }
   ],
   "source": [
    "calculatearea()"
   ]
  },
  {
   "cell_type": "code",
   "execution_count": 11,
   "metadata": {},
   "outputs": [
    {
     "name": "stdout",
     "output_type": "stream",
     "text": [
      "10\n",
      "20\n",
      "calculating area - \n"
     ]
    }
   ],
   "source": [
    "class Box:\n",
    "    length = 10\n",
    "    breadth = 20\n",
    "    \n",
    "    \n",
    "    def calculatearea(self):\n",
    "        print(\"calculating area - \")\n",
    "        \n",
    "box = Box()\n",
    "\n",
    "print(box.length)\n",
    "print(box.breadth)\n",
    "box.calculatearea()"
   ]
  },
  {
   "cell_type": "code",
   "execution_count": 21,
   "metadata": {},
   "outputs": [
    {
     "name": "stdout",
     "output_type": "stream",
     "text": [
      "10\n",
      "20\n",
      "calculating area -  200\n"
     ]
    }
   ],
   "source": [
    "class Box:\n",
    "    length = 10\n",
    "    breadth = 20\n",
    "    \n",
    "    \n",
    "    def calculatearea(self):\n",
    "        print(\"calculating area - \",self.length*self.breadth)\n",
    "        \n",
    "box = Box()\n",
    "\n",
    "print(box.length)\n",
    "print(box.breadth)\n",
    "box.calculatearea()"
   ]
  },
  {
   "cell_type": "code",
   "execution_count": 25,
   "metadata": {},
   "outputs": [
    {
     "name": "stdout",
     "output_type": "stream",
     "text": [
      "10\n",
      "20\n",
      "10\n",
      "20\n"
     ]
    }
   ],
   "source": [
    "class Box:\n",
    "    \n",
    "    length = 10\n",
    "    breadth = 20\n",
    "    \n",
    "box = Box()\n",
    "\n",
    "print(box.length)\n",
    "print(box.breadth)\n",
    "\n",
    "box2 = Box()\n",
    "print(box2.length)\n",
    "print(box2.breadth)"
   ]
  },
  {
   "cell_type": "code",
   "execution_count": 28,
   "metadata": {},
   "outputs": [
    {
     "name": "stdout",
     "output_type": "stream",
     "text": [
      "10\n",
      "20\n",
      "30\n",
      "40\n"
     ]
    }
   ],
   "source": [
    "class Box:\n",
    "    \n",
    "    \n",
    "    # intilization block/constructor\n",
    "    \n",
    "   def __init__(self,length,breadth):\n",
    "    self.length = length\n",
    "    self.breadth = breadth\n",
    "    \n",
    "    \n",
    "    \n",
    "box = Box(10,20)\n",
    "\n",
    "print(box.length)\n",
    "print(box.breadth)\n",
    "\n",
    "\n",
    "box2 = Box(30,40)\n",
    "\n",
    "print(box2.length)\n",
    "print(box2.breadth)"
   ]
  },
  {
   "cell_type": "code",
   "execution_count": 29,
   "metadata": {},
   "outputs": [
    {
     "name": "stdout",
     "output_type": "stream",
     "text": [
      "10\n",
      "20\n",
      "calculating area -  200\n"
     ]
    }
   ],
   "source": [
    "class Box:\n",
    "    \n",
    "    def __init__(self,length,breadth):\n",
    "        self.length= length\n",
    "        self.breadth = breadth\n",
    "        \n",
    "    def calculatearea(self):\n",
    "        print(\"calculating area - \",self.length*self.breadth)\n",
    "    \n",
    "box = Box(10,20)\n",
    "\n",
    "print(box.length)\n",
    "print(box.breadth)\n",
    "box.calculatearea()"
   ]
  },
  {
   "cell_type": "code",
   "execution_count": 30,
   "metadata": {},
   "outputs": [
    {
     "name": "stdout",
     "output_type": "stream",
     "text": [
      "10\n",
      "20\n",
      "calculating area -  200\n",
      "Calculating perimeter -  40\n"
     ]
    }
   ],
   "source": [
    "class Box:\n",
    "    \n",
    "    def __init__(self,length,breadth):\n",
    "        self.length= length\n",
    "        self.breadth = breadth\n",
    "        \n",
    "    def calculatearea(self):\n",
    "        print(\"calculating area - \",self.length*self.breadth)\n",
    "        \n",
    "    def calculateperimeter(self):\n",
    "        print(\"Calculating perimeter - \",2*self.length+self.breadth)\n",
    "    \n",
    "box = Box(10,20)\n",
    "\n",
    "print(box.length)\n",
    "print(box.breadth)\n",
    "box.calculatearea()\n",
    "box.calculateperimeter()"
   ]
  },
  {
   "cell_type": "code",
   "execution_count": 31,
   "metadata": {},
   "outputs": [
    {
     "name": "stdout",
     "output_type": "stream",
     "text": [
      "10\n",
      "20\n"
     ]
    }
   ],
   "source": [
    "class Box:\n",
    "    length = 10\n",
    "    breadth = 20\n",
    "    \n",
    "class Rectangle(Box):\n",
    "    pass\n",
    "\n",
    "rectangle = Rectangle()\n",
    "print(rectangle.length)\n",
    "print(rectangle.breadth)"
   ]
  }
 ],
 "metadata": {
  "kernelspec": {
   "display_name": "Python 3",
   "language": "python",
   "name": "python3"
  },
  "language_info": {
   "codemirror_mode": {
    "name": "ipython",
    "version": 3
   },
   "file_extension": ".py",
   "mimetype": "text/x-python",
   "name": "python",
   "nbconvert_exporter": "python",
   "pygments_lexer": "ipython3",
   "version": "3.7.3"
  }
 },
 "nbformat": 4,
 "nbformat_minor": 2
}
