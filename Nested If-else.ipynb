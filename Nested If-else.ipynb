{
 "cells": [
  {
   "cell_type": "code",
   "execution_count": 2,
   "metadata": {},
   "outputs": [
    {
     "name": "stdout",
     "output_type": "stream",
     "text": [
      "you are selected for college\n"
     ]
    }
   ],
   "source": [
    "age=20\n",
    "marks=70\n",
    "if(age>18):\n",
    "    #outer if statements\n",
    "    #if this statement is true enter inner loop\n",
    "    #if not go to rest\n",
    "    if(marks>65):\n",
    "        #inner if statements\n",
    "        #if this statement is true print inner loop statement\n",
    "    \n",
    "        print(\"you are selected for college\")\n",
    "    \n",
    "    #if not go outer loop"
   ]
  },
  {
   "cell_type": "code",
   "execution_count": 3,
   "metadata": {},
   "outputs": [
    {
     "name": "stdout",
     "output_type": "stream",
     "text": [
      "Your age and GPA are both enough\n",
      "You have been selected for university\n"
     ]
    }
   ],
   "source": [
    "age=20\n",
    "gpa=1.1\n",
    "if age>18:\n",
    "   if gpa>0.8:\n",
    "      print(\"Your age and GPA are both enough\");\n",
    "      print(\"You have been selected for university\")\n",
    "   else:\n",
    "      print(\"your gpa is not enough\")\n",
    "else:\n",
    "   print(\"your age is not enough\")"
   ]
  },
  {
   "cell_type": "code",
   "execution_count": 5,
   "metadata": {},
   "outputs": [
    {
     "name": "stdout",
     "output_type": "stream",
     "text": [
      "Enter the number for check\n",
      "0\n",
      "number is Zero\n"
     ]
    }
   ],
   "source": [
    "#a number get from user\n",
    "# tis program used to check number\n",
    "#is it negative or positive or Zero\n",
    "number=int(input(\"Enter the number for check\\n\"))\n",
    "if number>=0: #outer if\n",
    "    if number==0: #inner if\n",
    "          print(\"number is Zero\")\n",
    "    else:\n",
    "        print(\"Number is positive\")\n",
    "else:\n",
    "      print(\"Number is Negative\")"
   ]
  },
  {
   "cell_type": "code",
   "execution_count": null,
   "metadata": {},
   "outputs": [],
   "source": []
  }
 ],
 "metadata": {
  "kernelspec": {
   "display_name": "Python 3",
   "language": "python",
   "name": "python3"
  },
  "language_info": {
   "codemirror_mode": {
    "name": "ipython",
    "version": 3
   },
   "file_extension": ".py",
   "mimetype": "text/x-python",
   "name": "python",
   "nbconvert_exporter": "python",
   "pygments_lexer": "ipython3",
   "version": "3.7.3"
  }
 },
 "nbformat": 4,
 "nbformat_minor": 2
}
