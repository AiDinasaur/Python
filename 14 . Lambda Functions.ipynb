{
 "cells": [
  {
   "cell_type": "code",
   "execution_count": 2,
   "metadata": {},
   "outputs": [
    {
     "name": "stdout",
     "output_type": "stream",
     "text": [
      "4\n",
      "10\n"
     ]
    }
   ],
   "source": [
    "def doubler(x):\n",
    "    return x*2\n",
    "\n",
    "print(doubler(2))\n",
    "# Prints 4\n",
    "\n",
    "print(doubler(5))\n",
    "# Prints 10"
   ]
  },
  {
   "cell_type": "code",
   "execution_count": 1,
   "metadata": {},
   "outputs": [
    {
     "name": "stdout",
     "output_type": "stream",
     "text": [
      "9\n",
      "9\n",
      "9\n",
      "9\n",
      "9\n"
     ]
    }
   ],
   "source": [
    "# Positional arguments\n",
    "add = lambda x, y, z: x+y+z\n",
    "print(add(2, 3, 4))\n",
    "# Prints 9\n",
    "\n",
    "# Keyword arguments\n",
    "add = lambda x, y, z: x+y+z\n",
    "print(add(2, z=3, y=4))\n",
    "# Prints 9\n",
    "\n",
    "# Default arguments\n",
    "add = lambda x, y=3, z=4: x+y+z\n",
    "print(add(2))\n",
    "# Prints 9\n",
    "\n",
    "# *args\n",
    "add = lambda *args: sum(args)\n",
    "print(add(2, 3, 4))\n",
    "# Prints 9\n",
    "\n",
    "# **args\n",
    "add = lambda **kwargs: sum(kwargs.values())\n",
    "print(add(x=2, y=3, z=4))\n",
    "# Prints 9"
   ]
  }
 ],
 "metadata": {
  "kernelspec": {
   "display_name": "Python 3",
   "language": "python",
   "name": "python3"
  },
  "language_info": {
   "codemirror_mode": {
    "name": "ipython",
    "version": 3
   },
   "file_extension": ".py",
   "mimetype": "text/x-python",
   "name": "python",
   "nbconvert_exporter": "python",
   "pygments_lexer": "ipython3",
   "version": "3.7.3"
  }
 },
 "nbformat": 4,
 "nbformat_minor": 2
}
