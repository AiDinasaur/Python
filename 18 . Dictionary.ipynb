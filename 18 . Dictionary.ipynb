{
 "cells": [
  {
   "cell_type": "markdown",
   "metadata": {},
   "source": [
    "# Dictionary"
   ]
  },
  {
   "cell_type": "code",
   "execution_count": 1,
   "metadata": {},
   "outputs": [],
   "source": [
    "a = {'team': 'India',\n",
    "     'rank': 1,\n",
    "     'color': 'Blue',\n",
    "     'captain': 'Kholi',\n",
    "     }"
   ]
  },
  {
   "cell_type": "code",
   "execution_count": 2,
   "metadata": {},
   "outputs": [
    {
     "name": "stdout",
     "output_type": "stream",
     "text": [
      "{'team': 'India', 'rank': 1, 'color': 'Blue', 'captain': 'Kholi'}\n"
     ]
    }
   ],
   "source": [
    "print(a)"
   ]
  },
  {
   "cell_type": "code",
   "execution_count": 3,
   "metadata": {},
   "outputs": [
    {
     "name": "stdout",
     "output_type": "stream",
     "text": [
      "4\n"
     ]
    }
   ],
   "source": [
    "print(len(a))"
   ]
  },
  {
   "cell_type": "code",
   "execution_count": 4,
   "metadata": {},
   "outputs": [
    {
     "name": "stdout",
     "output_type": "stream",
     "text": [
      "India\n"
     ]
    }
   ],
   "source": [
    "print(a[\"team\"])"
   ]
  },
  {
   "cell_type": "code",
   "execution_count": 5,
   "metadata": {},
   "outputs": [
    {
     "ename": "KeyError",
     "evalue": "'s'",
     "output_type": "error",
     "traceback": [
      "\u001b[1;31m---------------------------------------------------------------------------\u001b[0m",
      "\u001b[1;31mKeyError\u001b[0m                                  Traceback (most recent call last)",
      "\u001b[1;32m<ipython-input-5-11d4dbf35629>\u001b[0m in \u001b[0;36m<module>\u001b[1;34m\u001b[0m\n\u001b[1;32m----> 1\u001b[1;33m \u001b[0mprint\u001b[0m\u001b[1;33m(\u001b[0m\u001b[0ma\u001b[0m\u001b[1;33m[\u001b[0m\u001b[1;34m\"s\"\u001b[0m\u001b[1;33m]\u001b[0m\u001b[1;33m)\u001b[0m\u001b[1;33m\u001b[0m\u001b[1;33m\u001b[0m\u001b[0m\n\u001b[0m",
      "\u001b[1;31mKeyError\u001b[0m: 's'"
     ]
    }
   ],
   "source": [
    "print(a[\"s\"])"
   ]
  },
  {
   "cell_type": "code",
   "execution_count": 6,
   "metadata": {},
   "outputs": [
    {
     "name": "stdout",
     "output_type": "stream",
     "text": [
      "India\n"
     ]
    }
   ],
   "source": [
    "# key present\n",
    "print(a.get('team'))"
   ]
  },
  {
   "cell_type": "code",
   "execution_count": 7,
   "metadata": {},
   "outputs": [
    {
     "name": "stdout",
     "output_type": "stream",
     "text": [
      "None\n"
     ]
    }
   ],
   "source": [
    "print(a.get('s'))"
   ]
  },
  {
   "cell_type": "code",
   "execution_count": 8,
   "metadata": {},
   "outputs": [
    {
     "name": "stdout",
     "output_type": "stream",
     "text": [
      "{'team': 'India', 'rank': 1, 'color': 'Blue', 'captain': 'Kholi', 'board': 'BCCI'}\n"
     ]
    }
   ],
   "source": [
    "a = {'team': 'India',\n",
    "     'rank': 1,\n",
    "     'color': 'Blue',\n",
    "     'captain': 'Kholi',\n",
    "     }\n",
    "\n",
    "a[\"board\"] = \"BCCI\"\n",
    "\n",
    "print(a)"
   ]
  },
  {
   "cell_type": "code",
   "execution_count": 9,
   "metadata": {},
   "outputs": [
    {
     "name": "stdout",
     "output_type": "stream",
     "text": [
      "team\n",
      "rank\n",
      "color\n",
      "captain\n",
      "board\n"
     ]
    }
   ],
   "source": [
    "for i in a.keys():\n",
    "    print(i)"
   ]
  },
  {
   "cell_type": "code",
   "execution_count": 10,
   "metadata": {},
   "outputs": [
    {
     "name": "stdout",
     "output_type": "stream",
     "text": [
      "India\n",
      "1\n",
      "Blue\n",
      "Kholi\n",
      "BCCI\n"
     ]
    }
   ],
   "source": [
    "for i in a.values():\n",
    "    print(i)"
   ]
  },
  {
   "cell_type": "code",
   "execution_count": 11,
   "metadata": {},
   "outputs": [
    {
     "name": "stdout",
     "output_type": "stream",
     "text": [
      "('team', 'India')\n",
      "('rank', 1)\n",
      "('color', 'Blue')\n",
      "('captain', 'Kholi')\n",
      "('board', 'BCCI')\n"
     ]
    }
   ],
   "source": [
    "for i in a.items():\n",
    "    print(i)"
   ]
  },
  {
   "cell_type": "code",
   "execution_count": 12,
   "metadata": {},
   "outputs": [
    {
     "name": "stdout",
     "output_type": "stream",
     "text": [
      "team\n",
      "rank\n",
      "color\n",
      "captain\n",
      "board\n"
     ]
    }
   ],
   "source": [
    "for i in a:\n",
    "    print(i)"
   ]
  },
  {
   "cell_type": "code",
   "execution_count": 13,
   "metadata": {},
   "outputs": [
    {
     "name": "stdout",
     "output_type": "stream",
     "text": [
      "India\n",
      "1\n",
      "Blue\n",
      "Kholi\n",
      "BCCI\n"
     ]
    }
   ],
   "source": [
    "for i in a:\n",
    "    print(a[i])"
   ]
  },
  {
   "cell_type": "code",
   "execution_count": 14,
   "metadata": {},
   "outputs": [
    {
     "name": "stdout",
     "output_type": "stream",
     "text": [
      "['team', 'rank', 'color', 'captain', 'board']\n",
      "['India', 1, 'Blue', 'Kholi', 'BCCI']\n",
      "[('team', 'India'), ('rank', 1), ('color', 'Blue'), ('captain', 'Kholi'), ('board', 'BCCI')]\n"
     ]
    }
   ],
   "source": [
    "# get all keys\n",
    "print(list(a.keys()))    \n",
    "\n",
    "# get all values\n",
    "print(list(a.values()))  \n",
    "\n",
    "# get all pairs\n",
    "print(list(a.items()))   "
   ]
  },
  {
   "cell_type": "code",
   "execution_count": 15,
   "metadata": {},
   "outputs": [
    {
     "name": "stdout",
     "output_type": "stream",
     "text": [
      "yes , key is present\n"
     ]
    }
   ],
   "source": [
    "if \"team\" in a:\n",
    "    print(\"yes , key is present\")\n",
    "    \n",
    "else:\n",
    "    print(\"No , key is not is present\")"
   ]
  },
  {
   "cell_type": "raw",
   "metadata": {},
   "source": [
    "# Other ways of creating Dictionary"
   ]
  },
  {
   "cell_type": "code",
   "execution_count": 16,
   "metadata": {},
   "outputs": [
    {
     "name": "stdout",
     "output_type": "stream",
     "text": [
      "{(2, 2): 25, 'a': 1, 'b': 2}\n"
     ]
    }
   ],
   "source": [
    "x = {(2,2): 25,\"a\": 1,\"b\": 2} # key should always be immutabe\n",
    "print(x)"
   ]
  },
  {
   "cell_type": "code",
   "execution_count": 17,
   "metadata": {},
   "outputs": [
    {
     "ename": "TypeError",
     "evalue": "unhashable type: 'list'",
     "output_type": "error",
     "traceback": [
      "\u001b[1;31m---------------------------------------------------------------------------\u001b[0m",
      "\u001b[1;31mTypeError\u001b[0m                                 Traceback (most recent call last)",
      "\u001b[1;32m<ipython-input-17-29c39ac31546>\u001b[0m in \u001b[0;36m<module>\u001b[1;34m\u001b[0m\n\u001b[1;32m----> 1\u001b[1;33m \u001b[0mx\u001b[0m \u001b[1;33m=\u001b[0m \u001b[1;33m{\u001b[0m\u001b[1;33m[\u001b[0m\u001b[1;36m2\u001b[0m\u001b[1;33m,\u001b[0m\u001b[1;36m2\u001b[0m\u001b[1;33m]\u001b[0m\u001b[1;33m:\u001b[0m \u001b[1;36m25\u001b[0m\u001b[1;33m,\u001b[0m\u001b[1;34m\"a\"\u001b[0m\u001b[1;33m:\u001b[0m \u001b[1;36m1\u001b[0m\u001b[1;33m,\u001b[0m\u001b[1;34m\"b\"\u001b[0m\u001b[1;33m:\u001b[0m \u001b[1;36m2\u001b[0m\u001b[1;33m}\u001b[0m \u001b[1;31m# will raise error since is list mutable\u001b[0m\u001b[1;33m\u001b[0m\u001b[1;33m\u001b[0m\u001b[0m\n\u001b[0m\u001b[0;32m      2\u001b[0m \u001b[0mprint\u001b[0m\u001b[1;33m(\u001b[0m\u001b[0mx\u001b[0m\u001b[1;33m)\u001b[0m\u001b[1;33m\u001b[0m\u001b[1;33m\u001b[0m\u001b[0m\n",
      "\u001b[1;31mTypeError\u001b[0m: unhashable type: 'list'"
     ]
    }
   ],
   "source": [
    "x = {[2,2]: 25,\"a\": 1,\"b\": 2} # will raise error since is list mutable\n",
    "print(x)"
   ]
  },
  {
   "cell_type": "code",
   "execution_count": 18,
   "metadata": {},
   "outputs": [
    {
     "name": "stdout",
     "output_type": "stream",
     "text": [
      "{'a': [1, 2], 'b': [1, 2], 'c': [1, 2]}\n"
     ]
    }
   ],
   "source": [
    "# duplicate values\n",
    "x = {'a':[1,2],'b':[1,2],'c':[1,2]}\n",
    "print(x)"
   ]
  },
  {
   "cell_type": "code",
   "execution_count": 19,
   "metadata": {},
   "outputs": [
    {
     "name": "stdout",
     "output_type": "stream",
     "text": [
      "{'a': [1, 2, 3], 'b': (1, 2, 3)}\n"
     ]
    }
   ],
   "source": [
    "# values of different datatypes\n",
    "x = {'a':[1,2,3],'b':(1,2,3)}\n",
    "print(x)"
   ]
  },
  {
   "cell_type": "code",
   "execution_count": 20,
   "metadata": {},
   "outputs": [
    {
     "name": "stdout",
     "output_type": "stream",
     "text": [
      "{'name': 'Bob', 'age': 25, 'job': 'Dev'}\n"
     ]
    }
   ],
   "source": [
    "l = [('name', 'Bob'),\n",
    "     ('age', 25),\n",
    "     ('job', 'Dev')]\n",
    "\n",
    "x = dict(l)\n",
    "print(x)    # {'name': 'Bob', 'age': 25, 'job': 'Dev'}"
   ]
  },
  {
   "cell_type": "code",
   "execution_count": 21,
   "metadata": {},
   "outputs": [
    {
     "name": "stdout",
     "output_type": "stream",
     "text": [
      "{'name': 'Bob', 'age': 25, 'job': 'Dev'}\n"
     ]
    }
   ],
   "source": [
    "t = (['name', 'Bob'],\n",
    "     ['age', 25],\n",
    "     ['job', 'Dev'])\n",
    "\n",
    "x = dict(t)\n",
    "print(x)    # {'name': 'Bob', 'age': 25, 'job': 'Dev'}"
   ]
  },
  {
   "cell_type": "code",
   "execution_count": 22,
   "metadata": {},
   "outputs": [
    {
     "name": "stdout",
     "output_type": "stream",
     "text": [
      "{'name': 'Bob', 'age': 25, 'job': 'Dev'}\n"
     ]
    }
   ],
   "source": [
    "x= dict(name = 'Bob',\n",
    "         age = 25,\n",
    "         job = 'Dev')\n",
    "\n",
    "print(x)    # {'name': 'Bob', 'age': 25, 'job': 'Dev'}"
   ]
  },
  {
   "cell_type": "code",
   "execution_count": 23,
   "metadata": {},
   "outputs": [
    {
     "name": "stdout",
     "output_type": "stream",
     "text": [
      "{'name': 'Bob', 'age': 25, 'job': 'Dev'}\n"
     ]
    }
   ],
   "source": [
    "keys = ['name', 'age', 'job']\n",
    "values = ['Bob', 25, 'Dev']\n",
    "\n",
    "x = dict(zip(keys, values))\n",
    "\n",
    "print(x)    # {'name': 'Bob', 'age': 25, 'job': 'Dev'}"
   ]
  },
  {
   "cell_type": "code",
   "execution_count": 24,
   "metadata": {},
   "outputs": [
    {
     "name": "stdout",
     "output_type": "stream",
     "text": [
      "{'a': 0, 'b': 0, 'c': 0}\n"
     ]
    }
   ],
   "source": [
    "keys = ['a', 'b', 'c']\n",
    "v= 0\n",
    "\n",
    "D = dict.fromkeys(keys,v)\n",
    "\n",
    "print(D)    # {'a': 0, 'b': 0, 'c': 0}"
   ]
  },
  {
   "cell_type": "markdown",
   "metadata": {},
   "source": [
    "# Dictionary Methods/functions"
   ]
  },
  {
   "cell_type": "code",
   "execution_count": 25,
   "metadata": {},
   "outputs": [
    {
     "data": {
      "text/plain": [
       "['__class__',\n",
       " '__contains__',\n",
       " '__delattr__',\n",
       " '__delitem__',\n",
       " '__dir__',\n",
       " '__doc__',\n",
       " '__eq__',\n",
       " '__format__',\n",
       " '__ge__',\n",
       " '__getattribute__',\n",
       " '__getitem__',\n",
       " '__gt__',\n",
       " '__hash__',\n",
       " '__init__',\n",
       " '__init_subclass__',\n",
       " '__iter__',\n",
       " '__le__',\n",
       " '__len__',\n",
       " '__lt__',\n",
       " '__ne__',\n",
       " '__new__',\n",
       " '__reduce__',\n",
       " '__reduce_ex__',\n",
       " '__repr__',\n",
       " '__setattr__',\n",
       " '__setitem__',\n",
       " '__sizeof__',\n",
       " '__str__',\n",
       " '__subclasshook__',\n",
       " 'clear',\n",
       " 'copy',\n",
       " 'fromkeys',\n",
       " 'get',\n",
       " 'items',\n",
       " 'keys',\n",
       " 'pop',\n",
       " 'popitem',\n",
       " 'setdefault',\n",
       " 'update',\n",
       " 'values']"
      ]
     },
     "execution_count": 25,
     "metadata": {},
     "output_type": "execute_result"
    }
   ],
   "source": [
    "dir(dict)"
   ]
  },
  {
   "cell_type": "code",
   "execution_count": 26,
   "metadata": {},
   "outputs": [],
   "source": [
    "#'clear',\n",
    "#'copy',\n",
    "#'fromkeys',\n",
    "#'get',\n",
    "#'items',\n",
    "#'keys',\n",
    "#'pop',\n",
    "#'popitem',\n",
    "#'setdefault',\n",
    "#'update',\n",
    "#'values'"
   ]
  },
  {
   "cell_type": "code",
   "execution_count": 27,
   "metadata": {},
   "outputs": [
    {
     "name": "stdout",
     "output_type": "stream",
     "text": [
      "{}\n"
     ]
    }
   ],
   "source": [
    "a = {'team': 'India',\n",
    "     'rank': 1,\n",
    "     'color': 'Blue',\n",
    "     'captain': 'Kholi',\n",
    "     }\n",
    "a.clear()\n",
    "print(a)"
   ]
  },
  {
   "cell_type": "code",
   "execution_count": 28,
   "metadata": {},
   "outputs": [
    {
     "name": "stdout",
     "output_type": "stream",
     "text": [
      "{'team': 'India', 'rank': 1, 'color': 'Blue', 'captain': 'Kholi'}\n",
      "{'team': 'India', 'rank': 1, 'color': 'Blue', 'captain': 'Kholi'}\n",
      "{'team': 'India', 'rank': 1, 'color': 'Blue', 'captain': 'Kholi', 'Board': 'BCCI'}\n",
      "{'team': 'India', 'rank': 1, 'color': 'Blue', 'captain': 'Kholi', 'Board': 'BCCI'}\n"
     ]
    }
   ],
   "source": [
    "a = {'team': 'India','rank': 1,'color': 'Blue','captain': 'Kholi'}\n",
    "b = a\n",
    "print(a)\n",
    "print(b)\n",
    "a[\"Board\"] = \"BCCI\"\n",
    "print(a)\n",
    "print(b)"
   ]
  },
  {
   "cell_type": "code",
   "execution_count": 29,
   "metadata": {},
   "outputs": [
    {
     "name": "stdout",
     "output_type": "stream",
     "text": [
      "{'team': 'India', 'rank': 1, 'color': 'Blue', 'captain': 'Kholi'}\n",
      "{'team': 'India', 'rank': 1, 'color': 'Blue', 'captain': 'Kholi'}\n",
      "{'team': 'India', 'rank': 1, 'color': 'Blue', 'captain': 'Kholi', 'Board': 'BCCI'}\n",
      "{'team': 'India', 'rank': 1, 'color': 'Blue', 'captain': 'Kholi'}\n"
     ]
    }
   ],
   "source": [
    "a = {'team': 'India','rank': 1,'color': 'Blue','captain': 'Kholi'}\n",
    "b = a.copy()\n",
    "print(a)\n",
    "print(b)\n",
    "a[\"Board\"] = \"BCCI\"\n",
    "print(a)\n",
    "print(b)"
   ]
  },
  {
   "cell_type": "code",
   "execution_count": 30,
   "metadata": {},
   "outputs": [
    {
     "name": "stdout",
     "output_type": "stream",
     "text": [
      "{'ramesh': 'developer', 'suresh': 'developer'}\n"
     ]
    }
   ],
   "source": [
    "x = dict.fromkeys([\"ramesh\",\"suresh\"],\"developer\")\n",
    "print(x)"
   ]
  },
  {
   "cell_type": "code",
   "execution_count": 31,
   "metadata": {},
   "outputs": [
    {
     "name": "stdout",
     "output_type": "stream",
     "text": [
      "{'ramesh': None, 'suresh': None}\n"
     ]
    }
   ],
   "source": [
    "x = dict.fromkeys([\"ramesh\",\"suresh\"])\n",
    "print(x)"
   ]
  },
  {
   "cell_type": "code",
   "execution_count": 32,
   "metadata": {},
   "outputs": [
    {
     "name": "stdout",
     "output_type": "stream",
     "text": [
      "{'team': ['india', 1]}\n"
     ]
    }
   ],
   "source": [
    "x = dict.fromkeys([\"team\"],[\"india\",1])\n",
    "print(x)"
   ]
  },
  {
   "cell_type": "code",
   "execution_count": 33,
   "metadata": {},
   "outputs": [
    {
     "name": "stdout",
     "output_type": "stream",
     "text": [
      "{'team': 1, 'rank': 1}\n"
     ]
    }
   ],
   "source": [
    "x = dict.fromkeys([\"team\",\"rank\"],(1))\n",
    "print(x)"
   ]
  },
  {
   "cell_type": "code",
   "execution_count": 34,
   "metadata": {},
   "outputs": [
    {
     "name": "stdout",
     "output_type": "stream",
     "text": [
      "India\n"
     ]
    }
   ],
   "source": [
    "a = {'team': 'India',\n",
    "     'rank': 1,\n",
    "     'color': 'Blue',\n",
    "     'captain': 'Kholi',\n",
    "     }\n",
    "print(a.get(\"team\"))"
   ]
  },
  {
   "cell_type": "code",
   "execution_count": 35,
   "metadata": {},
   "outputs": [
    {
     "name": "stdout",
     "output_type": "stream",
     "text": [
      "{'rank': 1, 'color': 'Blue', 'captain': 'Kholi'}\n"
     ]
    }
   ],
   "source": [
    "a = {'team': 'India',\n",
    "     'rank': 1,\n",
    "     'color': 'Blue',\n",
    "     'captain': 'Kholi',\n",
    "     }\n",
    "a.pop(\"team\")\n",
    "print(a)"
   ]
  },
  {
   "cell_type": "code",
   "execution_count": 36,
   "metadata": {},
   "outputs": [
    {
     "name": "stdout",
     "output_type": "stream",
     "text": [
      "{'team': 'India', 'rank': 1, 'color': 'Blue'}\n"
     ]
    }
   ],
   "source": [
    "a = {'team': 'India',\n",
    "     'rank': 1,\n",
    "     'color': 'Blue',\n",
    "     'captain': 'Kholi',\n",
    "     }\n",
    "a.popitem()\n",
    "print(a)"
   ]
  },
  {
   "cell_type": "code",
   "execution_count": 37,
   "metadata": {},
   "outputs": [
    {
     "name": "stdout",
     "output_type": "stream",
     "text": [
      "{'name': 'Bob', 'age': 25, 'job': 'Dev'}\n",
      "Dev\n"
     ]
    }
   ],
   "source": [
    "D = {'name': 'Bob', 'age': 25}\n",
    "v = D.setdefault('job', 'Dev')\n",
    "print(D)    # {'job': 'Dev', 'age': 25, 'name': 'Bob'}\n",
    "print(v)    # Dev"
   ]
  },
  {
   "cell_type": "code",
   "execution_count": 38,
   "metadata": {},
   "outputs": [
    {
     "name": "stdout",
     "output_type": "stream",
     "text": [
      "Bob\n"
     ]
    }
   ],
   "source": [
    "D = {'name': 'Bob', 'age': 25}\n",
    "v = D.setdefault('name')\n",
    "print(v)    # Bob"
   ]
  },
  {
   "cell_type": "code",
   "execution_count": 39,
   "metadata": {},
   "outputs": [
    {
     "name": "stdout",
     "output_type": "stream",
     "text": [
      "Bob\n"
     ]
    }
   ],
   "source": [
    "D = {'name': 'Bob', 'age': 25}\n",
    "v = D.setdefault('name', 'Max')\n",
    "print(v)    # Bob"
   ]
  },
  {
   "cell_type": "code",
   "execution_count": 1,
   "metadata": {},
   "outputs": [
    {
     "name": "stdout",
     "output_type": "stream",
     "text": [
      "{'name': 'Bob', 'job': 'Dev', 'age': 25}\n"
     ]
    }
   ],
   "source": [
    "D1 = {'name': 'Bob'}\n",
    "D2 = {'job': 'Dev', 'age': 25}\n",
    "D1.update(D2)\n",
    "print(D1)    # {'job': 'Dev', 'age': 25, 'name': 'Bob'}"
   ]
  },
  {
   "cell_type": "raw",
   "metadata": {},
   "source": [
    "Not Recommeded - But Good to know"
   ]
  },
  {
   "cell_type": "code",
   "execution_count": 6,
   "metadata": {},
   "outputs": [
    {
     "name": "stdout",
     "output_type": "stream",
     "text": [
      "input a character : a\n",
      "The result for inp is :  122\n"
     ]
    }
   ],
   "source": [
    "\n",
    "b ={\n",
    "    'a' : 122,\n",
    "    'b' : 123,\n",
    "    'c' : 124,\n",
    "    'd' : 125\n",
    "}\n",
    "\n",
    "# take user input\n",
    "inp = input('input a character : ')\n",
    "\n",
    "# -1 is the default value if there is no keys that matches the input\n",
    "print('The result for inp is : ', b.get(inp))\n",
    "\n"
   ]
  },
  {
   "cell_type": "code",
   "execution_count": 9,
   "metadata": {},
   "outputs": [
    {
     "name": "stdout",
     "output_type": "stream",
     "text": [
      "input a character : b\n",
      "2\n",
      "The result for inp is :  6\n"
     ]
    }
   ],
   "source": [
    "\n",
    "def switch_func(value, x):\n",
    "    return {\n",
    "        'a': lambda x: x*2,\n",
    "        'b': lambda x: x*3,\n",
    "        'c': lambda x: x*4,\n",
    "        'd': lambda x: x*5\n",
    "    }.get(value)(x)\n",
    "\n",
    "# take user input\n",
    "inp = input('input a character : ')\n",
    "number = int(input(\"\"))\n",
    "\n",
    "print('The result for inp is : ', switch_func(inp, number))\n"
   ]
  }
 ],
 "metadata": {
  "kernelspec": {
   "display_name": "Python 3",
   "language": "python",
   "name": "python3"
  },
  "language_info": {
   "codemirror_mode": {
    "name": "ipython",
    "version": 3
   },
   "file_extension": ".py",
   "mimetype": "text/x-python",
   "name": "python",
   "nbconvert_exporter": "python",
   "pygments_lexer": "ipython3",
   "version": "3.7.3"
  }
 },
 "nbformat": 4,
 "nbformat_minor": 2
}
