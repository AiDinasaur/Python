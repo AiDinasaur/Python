{
 "cells": [
  {
   "cell_type": "markdown",
   "metadata": {},
   "source": [
    "# Collections - ChainMap"
   ]
  },
  {
   "cell_type": "code",
   "execution_count": 1,
   "metadata": {},
   "outputs": [],
   "source": [
    "dict1 = {\"a\":1,\"b\":2,\"c\":3}\n",
    "dict2 = {\"e\":1,\"f\":3,\"g\":10}"
   ]
  },
  {
   "cell_type": "code",
   "execution_count": 2,
   "metadata": {},
   "outputs": [],
   "source": [
    "from collections import ChainMap"
   ]
  },
  {
   "cell_type": "code",
   "execution_count": 3,
   "metadata": {},
   "outputs": [
    {
     "name": "stdout",
     "output_type": "stream",
     "text": [
      "1\n"
     ]
    }
   ],
   "source": [
    "d = ChainMap(dict1,dict2)\n",
    "print(d[\"e\"])"
   ]
  },
  {
   "cell_type": "code",
   "execution_count": 4,
   "metadata": {},
   "outputs": [
    {
     "name": "stdout",
     "output_type": "stream",
     "text": [
      "1\n"
     ]
    }
   ],
   "source": [
    "dict1 = {\"a\":1,\"b\":2,\"c\":3}\n",
    "dict2 = {\"a\":4,\"f\":3,\"g\":10}\n",
    "\n",
    "d = ChainMap(dict1,dict2)\n",
    "print(d[\"a\"])"
   ]
  },
  {
   "cell_type": "code",
   "execution_count": 5,
   "metadata": {},
   "outputs": [
    {
     "name": "stdout",
     "output_type": "stream",
     "text": [
      "All the ChainMap contents are : \n",
      "[{'a': 1, 'b': 2}, {'b': 3, 'c': 4}]\n",
      "All keys of ChainMap are : \n",
      "['b', 'c', 'a']\n",
      "All values of ChainMap are : \n",
      "[2, 4, 1]\n"
     ]
    }
   ],
   "source": [
    "# Please select Python 3 for running this code in IDE \n",
    "# Python code to demonstrate ChainMap and \n",
    "# keys(), values() and maps \n",
    "\n",
    "# importing collections for ChainMap operations \n",
    "import collections \n",
    "\n",
    "# initializing dictionaries \n",
    "dic1 = { 'a' : 1, 'b' : 2 } \n",
    "dic2 = { 'b' : 3, 'c' : 4 } \n",
    "\n",
    "# initializing ChainMap \n",
    "chain = collections.ChainMap(dic1, dic2) \n",
    "\n",
    "# printing chainMap using maps \n",
    "print (\"All the ChainMap contents are : \") \n",
    "print (chain.maps) \n",
    "\n",
    "# printing keys using keys() \n",
    "print (\"All keys of ChainMap are : \") \n",
    "print (list(chain.keys())) \n",
    "\n",
    "\"\"\"\n",
    " Notice the key named “b” exists in both dictionaries,\n",
    " but only first dictionary key is taken as key value of “b”. \n",
    " Ordering is done as the dictionaries are passed in function\n",
    "\"\"\"\n",
    "\n",
    "# printing keys using keys() \n",
    "print (\"All values of ChainMap are : \") \n",
    "print (list(chain.values())) \n",
    "\n",
    "\n"
   ]
  },
  {
   "cell_type": "code",
   "execution_count": 6,
   "metadata": {},
   "outputs": [
    {
     "name": "stdout",
     "output_type": "stream",
     "text": [
      "All the ChainMap contents are : \n",
      "[{'a': 1, 'b': 2}, {'b': 3, 'c': 4}]\n",
      "Displaying new ChainMap : \n",
      "[{'f': 5}, {'a': 1, 'b': 2}, {'b': 3, 'c': 4}]\n",
      "Value associated with b before reversing is : 2\n",
      "Value associated with b after reversing is : 3\n"
     ]
    }
   ],
   "source": [
    "# Please select Python 3 for running this code in IDE \n",
    "# Python code to demonstrate ChainMap and \n",
    "# reversed() and new_child() \n",
    "\n",
    "# importing collections for ChainMap operations \n",
    "import collections \n",
    "\n",
    "# initializing dictionaries \n",
    "dic1 = { 'a' : 1, 'b' : 2 } \n",
    "dic2 = { 'b' : 3, 'c' : 4 } \n",
    "dic3 = { 'f' : 5 } \n",
    "\n",
    "# initializing ChainMap \n",
    "chain = collections.ChainMap(dic1, dic2) \n",
    "\n",
    "# printing chainMap using map \n",
    "print (\"All the ChainMap contents are : \") \n",
    "print (chain.maps) \n",
    "\n",
    "# using new_child() to add new dictionary \n",
    "chain1 = chain.new_child(dic3) \n",
    "\n",
    "# printing chainMap using map \n",
    "print (\"Displaying new ChainMap : \") \n",
    "print (chain1.maps) \n",
    "\n",
    "# displaying value associated with b before reversing \n",
    "print (\"Value associated with b before reversing is : \",end=\"\") \n",
    "print (chain1['b']) \n",
    "\n",
    "# reversing the ChainMap \n",
    "chain1.maps = reversed(chain1.maps) \n",
    "\n",
    "# displaying value associated with b after reversing \n",
    "print (\"Value associated with b after reversing is : \",end=\"\") \n",
    "print (chain1['b']) \n"
   ]
  }
 ],
 "metadata": {
  "kernelspec": {
   "display_name": "Python 3",
   "language": "python",
   "name": "python3"
  },
  "language_info": {
   "codemirror_mode": {
    "name": "ipython",
    "version": 3
   },
   "file_extension": ".py",
   "mimetype": "text/x-python",
   "name": "python",
   "nbconvert_exporter": "python",
   "pygments_lexer": "ipython3",
   "version": "3.7.3"
  }
 },
 "nbformat": 4,
 "nbformat_minor": 2
}
