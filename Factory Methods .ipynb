{
 "cells": [
  {
   "cell_type": "code",
   "execution_count": 1,
   "metadata": {},
   "outputs": [
    {
     "name": "stdout",
     "output_type": "stream",
     "text": [
      "Racecar driving.\n"
     ]
    }
   ],
   "source": [
    "class Car(object):\n",
    "\n",
    "    def factory(type):\n",
    "        if type == \"Racecar\":\n",
    "            return Racecar()\n",
    "        if type == \"Van\":\n",
    "            return Van()\n",
    "\n",
    "    factory = staticmethod(factory)\n",
    "\n",
    "class Racecar(Car):\n",
    "    def drive(self):\n",
    "        print(\"Racecar driving.\")\n",
    "\n",
    "class Van(Car):\n",
    "    def drive(self):\n",
    "        print(\"Van driving.\")\n",
    "\n",
    "# Create object using factory.\n",
    "obj = Car.factory(\"Racecar\")\n",
    "obj.drive()"
   ]
  },
  {
   "cell_type": "code",
   "execution_count": null,
   "metadata": {},
   "outputs": [],
   "source": []
  }
 ],
 "metadata": {
  "kernelspec": {
   "display_name": "Python 3",
   "language": "python",
   "name": "python3"
  },
  "language_info": {
   "codemirror_mode": {
    "name": "ipython",
    "version": 3
   },
   "file_extension": ".py",
   "mimetype": "text/x-python",
   "name": "python",
   "nbconvert_exporter": "python",
   "pygments_lexer": "ipython3",
   "version": "3.7.3"
  }
 },
 "nbformat": 4,
 "nbformat_minor": 2
}
