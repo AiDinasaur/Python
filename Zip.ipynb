{
 "cells": [
  {
   "cell_type": "markdown",
   "metadata": {},
   "source": [
    "# Zip"
   ]
  },
  {
   "cell_type": "code",
   "execution_count": 1,
   "metadata": {},
   "outputs": [
    {
     "name": "stdout",
     "output_type": "stream",
     "text": [
      "[7, 9, 11, 13, 15]\n"
     ]
    }
   ],
   "source": [
    "first = [1, 2, 3, 4, 5]\n",
    "\n",
    "second = [6, 7, 8, 9, 10]\n",
    "\n",
    "three = list(map(lambda x,y: x+y,first,second))\n",
    "\n",
    "print(three)"
   ]
  },
  {
   "cell_type": "code",
   "execution_count": 3,
   "metadata": {},
   "outputs": [
    {
     "name": "stdout",
     "output_type": "stream",
     "text": [
      "[('Sachin', 100), ('Sehwag', 15), ('Gambhir', 17), ('Dravid', 28), ('raina', 43)]\n",
      "(('Sachin', 100), ('Sehwag', 15), ('Gambhir', 17), ('Dravid', 28), ('raina', 43))\n",
      "{('Sehwag', 15), ('Dravid', 28), ('Gambhir', 17), ('raina', 43), ('Sachin', 100)}\n",
      "{'Sachin': 100, 'Sehwag': 15, 'Gambhir': 17, 'Dravid': 28, 'raina': 43}\n"
     ]
    }
   ],
   "source": [
    "# Python code to demonstrate the application of \n",
    "# zip() \n",
    "\n",
    "# initializing list of players. \n",
    "players = [ \"Sachin\", \"Sehwag\", \"Gambhir\", \"Dravid\", \"raina\"] \n",
    "\n",
    "# initializing their scores \n",
    "scores = [100, 15, 17, 28, 43 ] \n",
    "\n",
    "paired = list(zip(players,scores))\n",
    "print(paired)\n",
    "\n",
    "paired = tuple(zip(players,scores))\n",
    "print(paired)\n",
    "\n",
    "paired = set  (zip(players,scores))\n",
    "print(paired)\n",
    "\n",
    "paired = dict(zip(players,scores))\n",
    "print(paired)"
   ]
  },
  {
   "cell_type": "code",
   "execution_count": 4,
   "metadata": {},
   "outputs": [
    {
     "name": "stdout",
     "output_type": "stream",
     "text": [
      "[(1, 'one'), (2, 'two'), (3, 'three')]\n"
     ]
    }
   ],
   "source": [
    "numberList = [1, 2, 3]\n",
    "strList = ['one', 'two', 'three']\n",
    "\n",
    "# Two iterables are passed\n",
    "result = list(zip(numberList, strList))\n",
    "\n",
    "print(result)"
   ]
  },
  {
   "cell_type": "code",
   "execution_count": 5,
   "metadata": {},
   "outputs": [
    {
     "name": "stdout",
     "output_type": "stream",
     "text": [
      "[('x', 3), ('y', 4), ('z', 5)]\n"
     ]
    }
   ],
   "source": [
    "coordinate = ['x', 'y', 'z']\n",
    "value = [3, 4, 5, 0, 9]\n",
    "\n",
    "\n",
    "result = list(zip(coordinate, value))\n",
    "print(result)"
   ]
  },
  {
   "cell_type": "code",
   "execution_count": 6,
   "metadata": {},
   "outputs": [
    {
     "name": "stdout",
     "output_type": "stream",
     "text": [
      "((1,), (2,), (3,))\n"
     ]
    }
   ],
   "source": [
    "\"\"\"\n",
    "Python’s zip() function can take just one argument as well. \n",
    "The result will be an iterator that yields a series of 1-item tuples:\n",
    "\"\"\"\n",
    "a = [1, 2, 3]\n",
    "zipped = tuple(zip(a))\n",
    "print(zipped)\n"
   ]
  }
 ],
 "metadata": {
  "kernelspec": {
   "display_name": "Python 3",
   "language": "python",
   "name": "python3"
  },
  "language_info": {
   "codemirror_mode": {
    "name": "ipython",
    "version": 3
   },
   "file_extension": ".py",
   "mimetype": "text/x-python",
   "name": "python",
   "nbconvert_exporter": "python",
   "pygments_lexer": "ipython3",
   "version": "3.7.3"
  }
 },
 "nbformat": 4,
 "nbformat_minor": 2
}
