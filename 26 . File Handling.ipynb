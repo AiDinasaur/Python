{
 "cells": [
  {
   "cell_type": "markdown",
   "metadata": {},
   "source": [
    "# File Handling"
   ]
  },
  {
   "cell_type": "code",
   "execution_count": 1,
   "metadata": {},
   "outputs": [
    {
     "ename": "FileNotFoundError",
     "evalue": "[Errno 2] No such file or directory: 'mydocument.doc'",
     "output_type": "error",
     "traceback": [
      "\u001b[1;31m---------------------------------------------------------------------------\u001b[0m",
      "\u001b[1;31mFileNotFoundError\u001b[0m                         Traceback (most recent call last)",
      "\u001b[1;32m<ipython-input-1-53d32f07dc88>\u001b[0m in \u001b[0;36m<module>\u001b[1;34m\u001b[0m\n\u001b[1;32m----> 1\u001b[1;33m \u001b[0mf\u001b[0m \u001b[1;33m=\u001b[0m \u001b[0mopen\u001b[0m\u001b[1;33m(\u001b[0m\u001b[1;34m\"mydocument.doc\"\u001b[0m\u001b[1;33m)\u001b[0m\u001b[1;33m\u001b[0m\u001b[1;33m\u001b[0m\u001b[0m\n\u001b[0m",
      "\u001b[1;31mFileNotFoundError\u001b[0m: [Errno 2] No such file or directory: 'mydocument.doc'"
     ]
    }
   ],
   "source": [
    "f = open(\"mydocument.doc\")"
   ]
  },
  {
   "cell_type": "code",
   "execution_count": null,
   "metadata": {},
   "outputs": [],
   "source": [
    "try:\n",
    "    f = open(\"mydemofile.txt\")\n",
    "    \n",
    "except FileNotFoundError:\n",
    "    print(\"seems this file is missing\")"
   ]
  },
  {
   "cell_type": "code",
   "execution_count": null,
   "metadata": {},
   "outputs": [],
   "source": [
    "try:\n",
    "    f = open(\"myfile.txt\",\"rt\") # rt - > read text\n",
    "    \n",
    "except FileNotFoundError:\n",
    "    print(\"seems this file is missing\")"
   ]
  },
  {
   "cell_type": "code",
   "execution_count": null,
   "metadata": {},
   "outputs": [],
   "source": [
    "try:\n",
    "    f = open(\"myfile.txt\",\"rt\") # rt - > read text\n",
    "    print(f.read())\n",
    "    \n",
    "except FileNotFoundError:\n",
    "    print(\"seems this file is missing\")"
   ]
  },
  {
   "cell_type": "code",
   "execution_count": null,
   "metadata": {},
   "outputs": [],
   "source": [
    "try:\n",
    "    f = open(\"myfile.txt\",\"rt\") # rt - > read text\n",
    "    print(f.read(5))\n",
    "    \n",
    "except FileNotFoundError:\n",
    "    print(\"seems this file is missing\")"
   ]
  },
  {
   "cell_type": "code",
   "execution_count": null,
   "metadata": {},
   "outputs": [],
   "source": [
    "try:\n",
    "    f = open(\"myfile.txt\",\"rt\") # rt - > read text\n",
    "    print(f.readline())\n",
    "    #print(f.readline())\n",
    "    \n",
    "except FileNotFoundError:\n",
    "    print(\"seems this file is missing\")"
   ]
  },
  {
   "cell_type": "code",
   "execution_count": null,
   "metadata": {},
   "outputs": [],
   "source": [
    "try:\n",
    "    f = open(\"myfile.txt\",\"rt\") # rt - > read text\n",
    "    print(f.readline())\n",
    "    print(f.readline())\n",
    "    \n",
    "except FileNotFoundError:\n",
    "    print(\"seems this file is missing\")"
   ]
  },
  {
   "cell_type": "code",
   "execution_count": null,
   "metadata": {},
   "outputs": [],
   "source": [
    "try:\n",
    "    f = open(\"myfile.txt\",\"rt\") # rt - > read text\n",
    "    print(f.readlines())\n",
    "   \n",
    "    \n",
    "except FileNotFoundError:\n",
    "    print(\"seems this file is missing\")"
   ]
  },
  {
   "cell_type": "code",
   "execution_count": 2,
   "metadata": {},
   "outputs": [],
   "source": [
    "try:\n",
    "    f = open(\"myfile.txt\",\"a\") # a - > appending at the end of the file \n",
    "    f.write(\" additional content\")\n",
    "   \n",
    "    \n",
    "except FileNotFoundError:\n",
    "    print(\"seems this file is missing\")"
   ]
  },
  {
   "cell_type": "code",
   "execution_count": 3,
   "metadata": {},
   "outputs": [
    {
     "name": "stdout",
     "output_type": "stream",
     "text": [
      "[' additional content']\n"
     ]
    }
   ],
   "source": [
    "try:\n",
    "    f = open(\"myfile.txt\",\"rt\") # rt - > read text\n",
    "    print(f.readlines())\n",
    "   \n",
    "    \n",
    "except FileNotFoundError:\n",
    "    print(\"seems this file is missing\")"
   ]
  },
  {
   "cell_type": "code",
   "execution_count": 4,
   "metadata": {},
   "outputs": [],
   "source": [
    "try:\n",
    "    f = open(\"myfile.txt\",\"w\") # w -> overwrtting # whole file is removed \n",
    "    f.write(\"python\")\n",
    "   \n",
    "    \n",
    "except FileNotFoundError:\n",
    "    print(\"seems this file is missing\")"
   ]
  },
  {
   "cell_type": "code",
   "execution_count": 5,
   "metadata": {},
   "outputs": [
    {
     "name": "stdout",
     "output_type": "stream",
     "text": [
      "['python']\n"
     ]
    }
   ],
   "source": [
    "try:\n",
    "    f = open(\"myfile.txt\",\"rt\") # rt - > read text\n",
    "    print(f.readlines())\n",
    "   \n",
    "    \n",
    "except FileNotFoundError:\n",
    "    print(\"seems this file is missing\")"
   ]
  },
  {
   "cell_type": "code",
   "execution_count": 6,
   "metadata": {},
   "outputs": [],
   "source": [
    "try:\n",
    "    f = open(\"fita.txt\",\"x\") # x - > creating a file \n",
    "    \n",
    "except FileExistsError:\n",
    "    print(\"Already there is a file in same name\")\n",
    "    \n",
    "finally:\n",
    "    f.close()"
   ]
  },
  {
   "cell_type": "code",
   "execution_count": 7,
   "metadata": {
    "scrolled": true
   },
   "outputs": [],
   "source": [
    "import os \n",
    "\n",
    "try:\n",
    "    os.remove(\"fita.txt\") # you need to close the file before deleting\n",
    "    \n",
    "except FileNotFoundError:\n",
    "    print(\"Seems the file is not present/missing/removed\")"
   ]
  },
  {
   "cell_type": "code",
   "execution_count": 8,
   "metadata": {},
   "outputs": [
    {
     "name": "stdout",
     "output_type": "stream",
     "text": [
      "hello\n",
      "all\n",
      "welcome\n",
      "to\n",
      "python\n",
      "\n"
     ]
    }
   ],
   "source": [
    "\"\"\"\n",
    "Recommended way of File Handling\n",
    "\"\"\"\n",
    "with open(\"testfile.txt\") as myfile: # implicitly applies close()\n",
    "    filecontent = myfile.read()\n",
    "    \n",
    "print(filecontent)"
   ]
  }
 ],
 "metadata": {
  "kernelspec": {
   "display_name": "Python 3",
   "language": "python",
   "name": "python3"
  },
  "language_info": {
   "codemirror_mode": {
    "name": "ipython",
    "version": 3
   },
   "file_extension": ".py",
   "mimetype": "text/x-python",
   "name": "python",
   "nbconvert_exporter": "python",
   "pygments_lexer": "ipython3",
   "version": "3.7.3"
  }
 },
 "nbformat": 4,
 "nbformat_minor": 2
}
