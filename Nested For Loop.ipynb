{
 "cells": [
  {
   "cell_type": "code",
   "execution_count": 1,
   "metadata": {},
   "outputs": [
    {
     "name": "stdout",
     "output_type": "stream",
     "text": [
      "x\n",
      "x\n",
      "x\n",
      "y\n",
      "y\n",
      "y\n",
      "y\n"
     ]
    }
   ],
   "source": [
    "for i in range(3):\n",
    "    print(\"x\")\n",
    "for i in range(4):\n",
    "    print(\"y\")"
   ]
  },
  {
   "cell_type": "code",
   "execution_count": 2,
   "metadata": {},
   "outputs": [
    {
     "name": "stdout",
     "output_type": "stream",
     "text": [
      "letter X\n",
      "letter Y\n",
      "letter Y\n",
      "letter Y\n",
      "letter Y\n",
      "letter X\n",
      "letter Y\n",
      "letter Y\n",
      "letter Y\n",
      "letter Y\n",
      "letter X\n",
      "letter Y\n",
      "letter Y\n",
      "letter Y\n",
      "letter Y\n"
     ]
    }
   ],
   "source": [
    "for i in range(3):\n",
    "    print(\"letter X\")\n",
    "    for i in range(4):\n",
    "        print(\"letter Y\")"
   ]
  },
  {
   "cell_type": "code",
   "execution_count": 3,
   "metadata": {},
   "outputs": [
    {
     "name": "stdout",
     "output_type": "stream",
     "text": [
      "0 0\n",
      "0 1\n",
      "0 2\n",
      "0 3\n",
      "1 0\n",
      "1 1\n",
      "1 2\n",
      "1 3\n",
      "2 0\n",
      "2 1\n",
      "2 2\n",
      "2 3\n"
     ]
    }
   ],
   "source": [
    "#nested for loop in python\n",
    "for i in range(0,3):\n",
    "    for j in range(0,4):\n",
    "        print(i,j)"
   ]
  },
  {
   "cell_type": "code",
   "execution_count": 4,
   "metadata": {},
   "outputs": [
    {
     "name": "stdout",
     "output_type": "stream",
     "text": [
      "Enter te number of rows :4\n",
      " \n",
      "*\n",
      "\n",
      "**\n",
      "\n",
      "***\n",
      "\n"
     ]
    }
   ],
   "source": [
    "#nested for loop in python example\n",
    "num=int(input(\"Enter te number of rows :\"))\n",
    "print(\" \")\n",
    "for i in range(1,num):\n",
    "    for j in range(1):\n",
    "        print(\"*\"*(i)), #string multiplication\n",
    "        print(\"\")"
   ]
  },
  {
   "cell_type": "code",
   "execution_count": 5,
   "metadata": {},
   "outputs": [
    {
     "name": "stdout",
     "output_type": "stream",
     "text": [
      "Enter te number of rows :4\n",
      " \n",
      "*\n",
      "\n",
      "**\n",
      "\n",
      "***\n",
      "\n"
     ]
    }
   ],
   "source": [
    "#nested for loop in python example\n",
    "num=int(input(\"Enter te number of rows :\"))\n",
    "print(\" \")\n",
    "for i in range(1,num):\n",
    "    for j in range(1):\n",
    "        print(\"*\"*(i)), #string multiplication\n",
    "        print(\"\")"
   ]
  },
  {
   "cell_type": "code",
   "execution_count": 6,
   "metadata": {},
   "outputs": [
    {
     "name": "stdout",
     "output_type": "stream",
     "text": [
      "\n",
      "\n",
      "1 * 1 = 1\n",
      "\n",
      "\n",
      "1 * 2 = 2\n",
      "\n",
      "\n",
      "1 * 3 = 3\n",
      "\n",
      "\n",
      "1 * 4 = 4\n",
      "\n",
      "\n",
      "1 * 5 = 5\n",
      "\n",
      "\n",
      "\n",
      "\n",
      "2 * 1 = 2\n",
      "\n",
      "\n",
      "2 * 2 = 4\n",
      "\n",
      "\n",
      "2 * 3 = 6\n",
      "\n",
      "\n",
      "2 * 4 = 8\n",
      "\n",
      "\n",
      "2 * 5 = 10\n",
      "\n",
      "\n",
      "\n",
      "\n",
      "3 * 1 = 3\n",
      "\n",
      "\n",
      "3 * 2 = 6\n",
      "\n",
      "\n",
      "3 * 3 = 9\n",
      "\n",
      "\n",
      "3 * 4 = 12\n",
      "\n",
      "\n",
      "3 * 5 = 15\n",
      "\n",
      "\n",
      "\n",
      "\n",
      "4 * 1 = 4\n",
      "\n",
      "\n",
      "4 * 2 = 8\n",
      "\n",
      "\n",
      "4 * 3 = 12\n",
      "\n",
      "\n",
      "4 * 4 = 16\n",
      "\n",
      "\n",
      "4 * 5 = 20\n",
      "\n",
      "\n"
     ]
    }
   ],
   "source": [
    "for i in range(1,5,1):\n",
    "    print(\"\\n\"),\n",
    "    for j in range(1,6,1):\n",
    "        print(i,'*',j,'=',i*j)\n",
    "        print(\"\\n\"),"
   ]
  },
  {
   "cell_type": "code",
   "execution_count": 10,
   "metadata": {},
   "outputs": [
    {
     "name": "stdout",
     "output_type": "stream",
     "text": [
      "John  has 34\n",
      "John  has 54\n",
      "John  has 23\n",
      "John  has 43\n",
      "Smith  has 34\n",
      "Smith  has 54\n",
      "Smith  has 23\n",
      "Smith  has 43\n",
      "Dan  has 34\n",
      "Dan  has 54\n",
      "Dan  has 23\n",
      "Dan  has 43\n",
      "Khan  has 34\n",
      "Khan  has 54\n",
      "Khan  has 23\n",
      "Khan  has 43\n"
     ]
    }
   ],
   "source": [
    "names=['John','Smith','Dan','Khan']#name is string\n",
    "#name list in Python\n",
    "ages=[34,54,23,43] \n",
    "for name in names: \n",
    "    for age in ages: \n",
    "        print(name,\" has \"+str(age))"
   ]
  },
  {
   "cell_type": "code",
   "execution_count": 12,
   "metadata": {},
   "outputs": [
    {
     "name": "stdout",
     "output_type": "stream",
     "text": [
      "Jhon has 1carBenz\n",
      "Jhon has 1carToyota\n",
      "Jhon has 1carBMW\n",
      "Jhon has 4carBenz\n",
      "Jhon has 4carToyota\n",
      "Jhon has 4carBMW\n",
      "Jhon has 6carBenz\n",
      "Jhon has 6carToyota\n",
      "Jhon has 6carBMW\n",
      "Smith has 1carBenz\n",
      "Smith has 1carToyota\n",
      "Smith has 1carBMW\n",
      "Smith has 4carBenz\n",
      "Smith has 4carToyota\n",
      "Smith has 4carBMW\n",
      "Smith has 6carBenz\n",
      "Smith has 6carToyota\n",
      "Smith has 6carBMW\n",
      "Dan has 1carBenz\n",
      "Dan has 1carToyota\n",
      "Dan has 1carBMW\n",
      "Dan has 4carBenz\n",
      "Dan has 4carToyota\n",
      "Dan has 4carBMW\n",
      "Dan has 6carBenz\n",
      "Dan has 6carToyota\n",
      "Dan has 6carBMW\n"
     ]
    }
   ],
   "source": [
    "names=['Jhon','Smith','Dan']#name is string\n",
    "#name list in Python\n",
    "numbers=[1,4,6] #numbere list in Python\n",
    "cars=['Benz','Toyota','BMW'] #car list in python\n",
    "for name in names: \n",
    "    for number in numbers:\n",
    "        for car in cars:\n",
    "          print(name+\" has \"+str(number)+\"car\"+car)"
   ]
  },
  {
   "cell_type": "code",
   "execution_count": null,
   "metadata": {},
   "outputs": [],
   "source": []
  }
 ],
 "metadata": {
  "kernelspec": {
   "display_name": "Python 3",
   "language": "python",
   "name": "python3"
  },
  "language_info": {
   "codemirror_mode": {
    "name": "ipython",
    "version": 3
   },
   "file_extension": ".py",
   "mimetype": "text/x-python",
   "name": "python",
   "nbconvert_exporter": "python",
   "pygments_lexer": "ipython3",
   "version": "3.7.3"
  }
 },
 "nbformat": 4,
 "nbformat_minor": 2
}
