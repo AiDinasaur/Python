{
 "cells": [
  {
   "cell_type": "markdown",
   "metadata": {},
   "source": [
    "# Collections - Counter"
   ]
  },
  {
   "cell_type": "raw",
   "metadata": {},
   "source": [
    "Python Counter is a subclass of the dict or dictionary class. It keeps track of the frequency of each element in the container.\n",
    "It takes as argument an iterable object (like list) and returns back a dictionary. In this dictionary,\n",
    "Key: an element in the iterable\n",
    "Value: frequency of the element in the iterable"
   ]
  },
  {
   "cell_type": "code",
   "execution_count": 1,
   "metadata": {},
   "outputs": [],
   "source": [
    "# importing Collections\n",
    "from collections import Counter "
   ]
  },
  {
   "cell_type": "markdown",
   "metadata": {},
   "source": [
    "# using List"
   ]
  },
  {
   "cell_type": "code",
   "execution_count": 2,
   "metadata": {},
   "outputs": [
    {
     "data": {
      "text/plain": [
       "Counter({'a': 3, 'b': 2, 'c': 1})"
      ]
     },
     "execution_count": 2,
     "metadata": {},
     "output_type": "execute_result"
    }
   ],
   "source": [
    "my_count = Counter(['a','b','c','a','b','a'])\n",
    "my_count"
   ]
  },
  {
   "cell_type": "markdown",
   "metadata": {},
   "source": [
    "# using Tuple"
   ]
  },
  {
   "cell_type": "code",
   "execution_count": 3,
   "metadata": {},
   "outputs": [
    {
     "data": {
      "text/plain": [
       "Counter({'a': 3, 'b': 2, 'c': 1})"
      ]
     },
     "execution_count": 3,
     "metadata": {},
     "output_type": "execute_result"
    }
   ],
   "source": [
    "my_count = Counter(('a','b','c','a','b','a'))\n",
    "my_count"
   ]
  },
  {
   "cell_type": "markdown",
   "metadata": {},
   "source": [
    "# using String"
   ]
  },
  {
   "cell_type": "code",
   "execution_count": 4,
   "metadata": {},
   "outputs": [
    {
     "data": {
      "text/plain": [
       "Counter({'H': 1, 'e': 1, 'l': 3, 'o': 2, ' ': 1, 'W': 1, 'r': 1, 'd': 1})"
      ]
     },
     "execution_count": 4,
     "metadata": {},
     "output_type": "execute_result"
    }
   ],
   "source": [
    "my_count = Counter(\"Hello World\")\n",
    "my_count"
   ]
  },
  {
   "cell_type": "markdown",
   "metadata": {},
   "source": [
    "# using Dictionary"
   ]
  },
  {
   "cell_type": "code",
   "execution_count": 5,
   "metadata": {},
   "outputs": [
    {
     "data": {
      "text/plain": [
       "Counter({'a': 3, 'b': 2, 'c': 1})"
      ]
     },
     "execution_count": 5,
     "metadata": {},
     "output_type": "execute_result"
    }
   ],
   "source": [
    "my_count = Counter({'a':3, 'b':2, 'c':1})\n",
    "my_count"
   ]
  },
  {
   "cell_type": "markdown",
   "metadata": {},
   "source": [
    "# using Keyword Argument"
   ]
  },
  {
   "cell_type": "code",
   "execution_count": 6,
   "metadata": {},
   "outputs": [
    {
     "data": {
      "text/plain": [
       "Counter({'i': 1, 'c': 2, 'e': 3})"
      ]
     },
     "execution_count": 6,
     "metadata": {},
     "output_type": "execute_result"
    }
   ],
   "source": [
    "my_count = Counter(i = 1, c = 2, e = 3)\n",
    "my_count"
   ]
  },
  {
   "cell_type": "markdown",
   "metadata": {},
   "source": [
    "# updating Counter"
   ]
  },
  {
   "cell_type": "code",
   "execution_count": 7,
   "metadata": {},
   "outputs": [
    {
     "name": "stdout",
     "output_type": "stream",
     "text": [
      "Counter({'e': 3, 'c': 2, 'i': 1})\n"
     ]
    },
    {
     "data": {
      "text/plain": [
       "Counter({'i': 1, 'c': 2, 'e': 3, 'a': 1})"
      ]
     },
     "execution_count": 7,
     "metadata": {},
     "output_type": "execute_result"
    }
   ],
   "source": [
    "print(my_count)\n",
    "my_count.update(\"a\")   # adding values to my_count\n",
    "my_count"
   ]
  },
  {
   "cell_type": "markdown",
   "metadata": {},
   "source": [
    "# Empty Counter and updating or adding "
   ]
  },
  {
   "cell_type": "code",
   "execution_count": 8,
   "metadata": {},
   "outputs": [
    {
     "data": {
      "text/plain": [
       "Counter({'a': 1})"
      ]
     },
     "execution_count": 8,
     "metadata": {},
     "output_type": "execute_result"
    }
   ],
   "source": [
    "my_count = Counter()   # defining an empty Counter\n",
    "my_count.update(\"a\")   # adding values to my_count\n",
    "my_count"
   ]
  },
  {
   "cell_type": "markdown",
   "metadata": {},
   "source": [
    "# Accessing Counts"
   ]
  },
  {
   "cell_type": "code",
   "execution_count": 9,
   "metadata": {},
   "outputs": [
    {
     "name": "stdout",
     "output_type": "stream",
     "text": [
      "0\n",
      "2\n"
     ]
    }
   ],
   "source": [
    "my_count = Counter(i = 1, c = 2, e = 3)\n",
    "my_count\n",
    "print(my_count['b']) # will not throw key error instead we will get zero\n",
    "print(my_count['c'])"
   ]
  },
  {
   "cell_type": "markdown",
   "metadata": {},
   "source": [
    "# Reassigning Counts in Python"
   ]
  },
  {
   "cell_type": "code",
   "execution_count": 10,
   "metadata": {},
   "outputs": [
    {
     "name": "stdout",
     "output_type": "stream",
     "text": [
      "Counter({'e': 3, 'c': 2, 'i': 1})\n",
      "Counter({'c': 5, 'e': 3, 'i': 1})\n"
     ]
    }
   ],
   "source": [
    "my_count = Counter(i = 1, c = 2, e = 3)\n",
    "print(my_count)\n",
    "my_count['c'] = 5\n",
    "print(my_count)"
   ]
  },
  {
   "cell_type": "markdown",
   "metadata": {},
   "source": [
    "# The elements() Method"
   ]
  },
  {
   "cell_type": "code",
   "execution_count": 11,
   "metadata": {},
   "outputs": [
    {
     "name": "stdout",
     "output_type": "stream",
     "text": [
      "<itertools.chain object at 0x0000022DD0504DA0>\n",
      "['a', 'b', 'b', 'd', 'd', 'd', 'd', 'd', 'c', 'c', 'c', 'c']\n"
     ]
    }
   ],
   "source": [
    "my_count = Counter({'a':1,'b':2, 'd':5, 'c':4})\n",
    "print(my_count.elements())\n",
    "print(list(my_count.elements())) # the output is not in accending order , it the same way as input is given"
   ]
  },
  {
   "cell_type": "markdown",
   "metadata": {},
   "source": [
    "# Accessing the Most Common Values"
   ]
  },
  {
   "cell_type": "code",
   "execution_count": 12,
   "metadata": {},
   "outputs": [
    {
     "name": "stdout",
     "output_type": "stream",
     "text": [
      "[('f', 219), ('d', 120), ('c', 3), ('b', 2), ('a', 1), ('e', 1)]\n",
      "[('f', 219)]\n",
      "[('f', 219), ('d', 120)]\n"
     ]
    }
   ],
   "source": [
    "coun = Counter(a=1, b=2, c=3, d=120, e=1, f=219)\n",
    "print(coun.most_common())\n",
    "print(coun.most_common(1))\n",
    "print(coun.most_common(2))"
   ]
  },
  {
   "cell_type": "code",
   "execution_count": 13,
   "metadata": {},
   "outputs": [
    {
     "name": "stdout",
     "output_type": "stream",
     "text": [
      "('f', 219)\n",
      "('d', 120)\n",
      "('c', 3)\n"
     ]
    }
   ],
   "source": [
    "coun = Counter(a=1, b=2, c=3, d=120, e=1, f=219) \n",
    "\n",
    "# This prints 3 most frequent characters \n",
    "for letter, count in coun.most_common(3): \n",
    "    print((letter, count)) \n"
   ]
  },
  {
   "cell_type": "markdown",
   "metadata": {},
   "source": [
    "# The subtract Function"
   ]
  },
  {
   "cell_type": "code",
   "execution_count": 14,
   "metadata": {},
   "outputs": [
    {
     "name": "stdout",
     "output_type": "stream",
     "text": [
      "Original Counter :  Counter({'hi': 2, 'hello': 1})\n",
      "New Counter :  Counter({'hi': 1, 'hello': 1})\n"
     ]
    }
   ],
   "source": [
    "my_count = Counter(['hi','hi','hello'])\n",
    "print(\"Original Counter : \", my_count)\n",
    "to_deduct = ['hi']\n",
    "my_count.subtract(to_deduct)\n",
    "print(\"New Counter : \", my_count)"
   ]
  },
  {
   "cell_type": "markdown",
   "metadata": {},
   "source": [
    "# To Remember"
   ]
  },
  {
   "cell_type": "raw",
   "metadata": {},
   "source": [
    "Python Counter is a container that keeps track of the number of occurrences of a value. Here are some key takeaways:\n",
    "Python Counter is a subclass of the dict or dictionary class.\n",
    "Counts are always displayed in descending order.\n",
    "Update method adds new values to an existing counter.\n",
    "When you try accessing an element that is not present, Counter object will return zero.\n",
    "elements() function lists all the elements in a Counter object.\n",
    "The most_common() function returns a list of tuples containing an element and its corresponding frequency sorted in the decreasing order."
   ]
  }
 ],
 "metadata": {
  "kernelspec": {
   "display_name": "Python 3",
   "language": "python",
   "name": "python3"
  },
  "language_info": {
   "codemirror_mode": {
    "name": "ipython",
    "version": 3
   },
   "file_extension": ".py",
   "mimetype": "text/x-python",
   "name": "python",
   "nbconvert_exporter": "python",
   "pygments_lexer": "ipython3",
   "version": "3.7.3"
  }
 },
 "nbformat": 4,
 "nbformat_minor": 2
}
