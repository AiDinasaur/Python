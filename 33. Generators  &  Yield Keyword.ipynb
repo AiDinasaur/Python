{
 "cells": [
  {
   "cell_type": "markdown",
   "metadata": {},
   "source": [
    "# Generators & Yield Keyword"
   ]
  },
  {
   "cell_type": "raw",
   "metadata": {},
   "source": [
    "# Knowldege of iterator is must to understand Generator\n",
    "\n",
    "Python yield\n",
    "There is only one use of python yield keyword, that is to replace the return statement of a function with the yield statement.\n",
    "\n",
    "When we do this, that function is called generator. We have already have a tutorial for generator. You can have a look at python generator."
   ]
  },
  {
   "cell_type": "code",
   "execution_count": 6,
   "metadata": {},
   "outputs": [],
   "source": [
    "def yieldstatemetns():\n",
    "    yield \"statement1\"\n",
    "    yield \"statement2\"\n",
    "    yield \"statement3\""
   ]
  },
  {
   "cell_type": "code",
   "execution_count": 7,
   "metadata": {},
   "outputs": [
    {
     "name": "stdout",
     "output_type": "stream",
     "text": [
      "<class 'generator'>\n",
      "statement1\n",
      "statement2\n",
      "statement3\n"
     ]
    }
   ],
   "source": [
    "s = yieldstatemetns()\n",
    "\n",
    "print(type(s))\n",
    "\n",
    "for i in s:\n",
    "    print(i)\n",
    "    \n",
    "    \n",
    "# we can see \"s\" which the function returns is iteratable "
   ]
  },
  {
   "cell_type": "code",
   "execution_count": 13,
   "metadata": {},
   "outputs": [],
   "source": [
    "for i in s:\n",
    "    print(i) # Once itertated , it cannot iterated again "
   ]
  },
  {
   "cell_type": "code",
   "execution_count": 14,
   "metadata": {},
   "outputs": [
    {
     "name": "stdout",
     "output_type": "stream",
     "text": [
      "a\n",
      "e\n",
      "i\n",
      "o\n",
      "u\n"
     ]
    }
   ],
   "source": [
    "def vowels():\n",
    "    yield \"a\"\n",
    "    yield \"e\"\n",
    "    yield \"i\"\n",
    "    yield \"o\"\n",
    "    yield \"u\"\n",
    "\n",
    "s = vowels()\n",
    "\n",
    "\"\"\"\n",
    "for i in vowels():\n",
    "    print(i)\n",
    "\n",
    "\"\"\"\n",
    "for i in s:\n",
    "    print(i)"
   ]
  },
  {
   "cell_type": "code",
   "execution_count": 10,
   "metadata": {},
   "outputs": [],
   "source": [
    "def multiplyvy5(*kwargs):\n",
    "    for i in kwargs:\n",
    "        x = i*5\n",
    "        yield x\n",
    "    "
   ]
  },
  {
   "cell_type": "code",
   "execution_count": 11,
   "metadata": {},
   "outputs": [
    {
     "name": "stdout",
     "output_type": "stream",
     "text": [
      "<generator object multiplyvy5 at 0x000001E865B0F6D8>\n",
      "<class 'generator'>\n",
      "5\n",
      "10\n",
      "15\n",
      "20\n",
      "25\n"
     ]
    }
   ],
   "source": [
    "s = multiplyvy5(1,2,3,4,5)\n",
    "\n",
    "print(s)\n",
    "print(type(s))\n",
    "\n",
    "for i in s:\n",
    "    print(i)"
   ]
  },
  {
   "cell_type": "code",
   "execution_count": 15,
   "metadata": {},
   "outputs": [
    {
     "name": "stdout",
     "output_type": "stream",
     "text": [
      "10\n",
      "20\n",
      "30\n",
      "40\n",
      "50\n",
      "60\n",
      "70\n",
      "80\n",
      "90\n",
      "100\n"
     ]
    }
   ],
   "source": [
    "\n",
    "def timesTable(number):\n",
    "   for i in range(1, 11):\n",
    "       yield i * number\n",
    "       i += 1\n",
    "\n",
    "gettimes = timesTable(10)\n",
    "for a in gettimes:\n",
    "   print(a)\n",
    "\n"
   ]
  }
 ],
 "metadata": {
  "kernelspec": {
   "display_name": "Python 3",
   "language": "python",
   "name": "python3"
  },
  "language_info": {
   "codemirror_mode": {
    "name": "ipython",
    "version": 3
   },
   "file_extension": ".py",
   "mimetype": "text/x-python",
   "name": "python",
   "nbconvert_exporter": "python",
   "pygments_lexer": "ipython3",
   "version": "3.7.3"
  }
 },
 "nbformat": 4,
 "nbformat_minor": 2
}
