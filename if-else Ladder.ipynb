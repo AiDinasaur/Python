{
 "cells": [
  {
   "cell_type": "markdown",
   "metadata": {},
   "source": [
    "# if-else Ladder"
   ]
  },
  {
   "cell_type": "code",
   "execution_count": 2,
   "metadata": {},
   "outputs": [
    {
     "name": "stdout",
     "output_type": "stream",
     "text": [
      "Enter Cibil Score : 760\n",
      "Enter Co - applicant Cibil :35000\n",
      "Enter applicant Salary : 790\n",
      "Enter Co - applicant Salary : 18000\n",
      "Decline Loan\n"
     ]
    }
   ],
   "source": [
    "applicant_cibil = int(input(\"Enter Cibil Score : \"))\n",
    "co_appilcabt_cibil = int(input(\"Enter Co - applicant Cibil :\"))\n",
    "applicant_salary = int(input(\"Enter applicant Salary : \"))\n",
    "co_applicant_salary = int(input(\"Enter Co - applicant Salary : \"))\n",
    "\n",
    "\"\"\"\n",
    "# conditon for approving loan\n",
    "applicant_cibil >=750\n",
    "co_appilcabt_cibil >=750\n",
    "applicant_salary >=20000\n",
    "co_applicant_salary >=20000\n",
    "\n",
    "# if any one condition fails we will decline the loan\n",
    "\n",
    "\"\"\"\n",
    "\n",
    "if applicant_cibil>=750:\n",
    "    if co_appilcabt_cibil>=750:\n",
    "        if applicant_salary>=20000:\n",
    "            if co_applicant_salary>=20000:\n",
    "                print(\"You can be aproved for Loan\")\n",
    "            else:\n",
    "                print(\"Decline Loan\")\n",
    "        else:\n",
    "            print(\"Decline Loan\")\n",
    "    else:\n",
    "        print(\"Decline Loan\")\n",
    "else:\n",
    "    print(\"Decline Loan\")"
   ]
  },
  {
   "cell_type": "code",
   "execution_count": 4,
   "metadata": {},
   "outputs": [
    {
     "name": "stdout",
     "output_type": "stream",
     "text": [
      "Enter the mark in English : 56\n",
      "Enter the mark in Language : 45\n",
      "Enter the mark in Math : 67\n",
      "Enter the mark in Social : 76\n",
      "Enter the mark in Science : 76\n",
      "Fail\n"
     ]
    }
   ],
   "source": [
    "English_marks = int(input(\"Enter the mark in English : \"))\n",
    "Language_marks = int(input(\"Enter the mark in Language : \"))\n",
    "Math_marks = int(input(\"Enter the mark in Math : \"))\n",
    "Social_marks = int(input(\"Enter the mark in Social : \"))\n",
    "Science_marks = int(input(\"Enter the mark in Science : \"))\n",
    "\n",
    "\"\"\"\n",
    "Conditon to print pass candidate should score 50 or above in all subject\n",
    "Failing in one subject which scoring less than 50 in one subject should print fail\n",
    "\"\"\"\n",
    "\n",
    "\n",
    "if English_marks>=50:\n",
    "    if Language_marks>=50:\n",
    "        if Math_marks>=50:\n",
    "            if Social_marks>=50:\n",
    "                if Science_marks>=50:\n",
    "                    print(\"You are Pass\")\n",
    "                else:\n",
    "                    print(\"Fail\")\n",
    "            else:\n",
    "                print(\"Fail\")\n",
    "        else:\n",
    "            print(\"Fail\")\n",
    "    else:\n",
    "        print(\"Fail\")\n",
    "    \n",
    "else:\n",
    "    print(\"Fail\")"
   ]
  }
 ],
 "metadata": {
  "kernelspec": {
   "display_name": "Python 3",
   "language": "python",
   "name": "python3"
  },
  "language_info": {
   "codemirror_mode": {
    "name": "ipython",
    "version": 3
   },
   "file_extension": ".py",
   "mimetype": "text/x-python",
   "name": "python",
   "nbconvert_exporter": "python",
   "pygments_lexer": "ipython3",
   "version": "3.7.3"
  }
 },
 "nbformat": 4,
 "nbformat_minor": 2
}
